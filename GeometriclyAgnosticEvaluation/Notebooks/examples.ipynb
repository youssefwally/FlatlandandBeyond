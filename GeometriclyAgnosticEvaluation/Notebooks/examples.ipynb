{
 "cells": [
  {
   "cell_type": "markdown",
   "id": "bce20f9d",
   "metadata": {},
   "source": [
    "# Imports"
   ]
  },
  {
   "cell_type": "code",
   "execution_count": 1,
   "id": "b05a4466",
   "metadata": {},
   "outputs": [
    {
     "name": "stdout",
     "output_type": "stream",
     "text": [
      "Current working directory: /Users/yowal8386/Library/CloudStorage/OneDrive-UiTOffice365/Documents/PhD/code/MI_Across_Space_and_Time/FlatlandandBeyond/GeometriclyAgnosticEvaluation/src\n"
     ]
    }
   ],
   "source": [
    "# -----------------------------------------------------\n",
    "# Change working directory to src\n",
    "import os\n",
    "import sys\n",
    "import torch\n",
    "\n",
    "from mlxtend.evaluate import mcnemar\n",
    "from mlxtend.evaluate import mcnemar_table\n",
    "\n",
    "working_dir = os.path.realpath(os.path.join(os.getcwd(), \"../src/\"))\n",
    "os.chdir(working_dir)\n",
    "\n",
    "metric_path = os.path.join(working_dir)\n",
    "sys.path.append(metric_path)\n",
    "\n",
    "print(\"Current working directory:\", os.getcwd())\n",
    "# -----------------------------------------------------"
   ]
  },
  {
   "cell_type": "code",
   "execution_count": 2,
   "id": "a8949bfe",
   "metadata": {},
   "outputs": [
    {
     "name": "stderr",
     "output_type": "stream",
     "text": [
      "/opt/anaconda3/envs/FlatlandAndBeyond/lib/python3.8/site-packages/tqdm/auto.py:21: TqdmWarning: IProgress not found. Please update jupyter and ipywidgets. See https://ipywidgets.readthedocs.io/en/stable/user_install.html\n",
      "  from .autonotebook import tqdm as notebook_tqdm\n"
     ]
    }
   ],
   "source": [
    "from agnostic_metrics import *"
   ]
  },
  {
   "cell_type": "markdown",
   "id": "9dccc31b",
   "metadata": {},
   "source": [
    "# Initializations"
   ]
  },
  {
   "cell_type": "code",
   "execution_count": 3,
   "id": "3dec5565",
   "metadata": {},
   "outputs": [
    {
     "name": "stderr",
     "output_type": "stream",
     "text": [
      "/var/folders/0f/tc2j3gn55c16cxfr0htyrvqm0000gp/T/ipykernel_2896/1173586016.py:1: FutureWarning: You are using `torch.load` with `weights_only=False` (the current default value), which uses the default pickle module implicitly. It is possible to construct malicious pickle data which will execute arbitrary code during unpickling (See https://github.com/pytorch/pytorch/blob/main/SECURITY.md#untrusted-models for more details). In a future release, the default value for `weights_only` will be flipped to `True`. This limits the functions that could be executed during unpickling. Arbitrary objects will no longer be allowed to be loaded via this mode unless they are explicitly allowlisted by the user via `torch.serialization.add_safe_globals`. We recommend you start setting `weights_only=True` for any use case where you don't have full control of the loaded file. Please open an issue on GitHub for any issues related to this experimental feature.\n",
      "  labels = torch.load(\"../../Embeddings/labels.pt\")\n",
      "/var/folders/0f/tc2j3gn55c16cxfr0htyrvqm0000gp/T/ipykernel_2896/1173586016.py:2: FutureWarning: You are using `torch.load` with `weights_only=False` (the current default value), which uses the default pickle module implicitly. It is possible to construct malicious pickle data which will execute arbitrary code during unpickling (See https://github.com/pytorch/pytorch/blob/main/SECURITY.md#untrusted-models for more details). In a future release, the default value for `weights_only` will be flipped to `True`. This limits the functions that could be executed during unpickling. Arbitrary objects will no longer be allowed to be loaded via this mode unless they are explicitly allowlisted by the user via `torch.serialization.add_safe_globals`. We recommend you start setting `weights_only=True` for any use case where you don't have full control of the loaded file. Please open an issue on GitHub for any issues related to this experimental feature.\n",
      "  euclidean_embeddings = torch.load(\"../../Embeddings/E-VAE_MNIST_embeddings.pt\")\n",
      "/var/folders/0f/tc2j3gn55c16cxfr0htyrvqm0000gp/T/ipykernel_2896/1173586016.py:3: FutureWarning: You are using `torch.load` with `weights_only=False` (the current default value), which uses the default pickle module implicitly. It is possible to construct malicious pickle data which will execute arbitrary code during unpickling (See https://github.com/pytorch/pytorch/blob/main/SECURITY.md#untrusted-models for more details). In a future release, the default value for `weights_only` will be flipped to `True`. This limits the functions that could be executed during unpickling. Arbitrary objects will no longer be allowed to be loaded via this mode unless they are explicitly allowlisted by the user via `torch.serialization.add_safe_globals`. We recommend you start setting `weights_only=True` for any use case where you don't have full control of the loaded file. Please open an issue on GitHub for any issues related to this experimental feature.\n",
      "  lorentz_embeddings = torch.load(\"../../Embeddings/L-VAE_MNIST_embeddings.pt\")\n"
     ]
    }
   ],
   "source": [
    "labels = torch.load(\"../../Embeddings/labels.pt\")\n",
    "euclidean_embeddings = torch.load(\"../../Embeddings/E-VAE_MNIST_embeddings.pt\")\n",
    "lorentz_embeddings = torch.load(\"../../Embeddings/L-VAE_MNIST_embeddings.pt\")"
   ]
  },
  {
   "cell_type": "code",
   "execution_count": 4,
   "id": "d274ecc3",
   "metadata": {},
   "outputs": [
    {
     "name": "stdout",
     "output_type": "stream",
     "text": [
      "Value 0 occurs 980 times.\n",
      "Value 1 occurs 1135 times.\n",
      "Value 2 occurs 1032 times.\n",
      "Value 3 occurs 1010 times.\n",
      "Value 4 occurs 982 times.\n",
      "Value 5 occurs 892 times.\n",
      "Value 6 occurs 958 times.\n",
      "Value 7 occurs 1028 times.\n",
      "Value 8 occurs 974 times.\n",
      "Value 9 occurs 1009 times.\n"
     ]
    }
   ],
   "source": [
    "# Count frequency of each unique element\n",
    "unique, counts = torch.unique(labels, return_counts=True)\n",
    "\n",
    "# Display the result\n",
    "for val, count in zip(unique, counts):\n",
    "    print(f\"Value {val.item()} occurs {count.item()} times.\")"
   ]
  },
  {
   "cell_type": "markdown",
   "id": "f3398753",
   "metadata": {},
   "source": [
    "# Calculate distances between all points"
   ]
  },
  {
   "cell_type": "markdown",
   "id": "1203460e",
   "metadata": {},
   "source": [
    "## Euclidean distance"
   ]
  },
  {
   "cell_type": "code",
   "execution_count": 5,
   "id": "2a7357e1",
   "metadata": {},
   "outputs": [],
   "source": [
    "euclidean_pairwise_distance = get_pairwise_euclidean_distance(euclidean_embeddings)"
   ]
  },
  {
   "cell_type": "markdown",
   "id": "056d483f",
   "metadata": {},
   "source": [
    "## lorentzian distance"
   ]
  },
  {
   "cell_type": "code",
   "execution_count": 6,
   "id": "a4f276cb",
   "metadata": {},
   "outputs": [
    {
     "name": "stdout",
     "output_type": "stream",
     "text": [
      "NaNs? False\n",
      "Negative values? False\n",
      "Symmetric? True\n"
     ]
    }
   ],
   "source": [
    "lorentz_pairwise_distance = get_pairwise_lorentz_distance(lorentz_embeddings, -1)"
   ]
  },
  {
   "cell_type": "markdown",
   "id": "f1ca242a",
   "metadata": {},
   "source": [
    "## Poincaré distance"
   ]
  },
  {
   "cell_type": "code",
   "execution_count": 7,
   "id": "3530a5b7",
   "metadata": {},
   "outputs": [],
   "source": [
    "poincare_embeddings = lorentz_to_poincare(lorentz_embeddings)"
   ]
  },
  {
   "cell_type": "code",
   "execution_count": 8,
   "id": "208625c6",
   "metadata": {},
   "outputs": [],
   "source": [
    "poincare_pairwise_distance = get_pairwise_poincare_distance(poincare_embeddings)"
   ]
  },
  {
   "cell_type": "markdown",
   "id": "74413de4",
   "metadata": {},
   "source": [
    "## Normalise Distances"
   ]
  },
  {
   "cell_type": "code",
   "execution_count": 9,
   "id": "bae92bd9",
   "metadata": {},
   "outputs": [],
   "source": [
    "normalised_lorentz_pairwise_distance = normalise_distances(lorentz_pairwise_distance)\n",
    "normalised_poincare_pairwise_distance = normalise_distances(poincare_pairwise_distance)\n",
    "normalised_euclidean_pairwise_distance = normalise_distances(euclidean_pairwise_distance)"
   ]
  },
  {
   "cell_type": "markdown",
   "id": "5da58008",
   "metadata": {},
   "source": [
    "# UMAP using Calculated Distance"
   ]
  },
  {
   "cell_type": "markdown",
   "id": "336d126c",
   "metadata": {},
   "source": [
    "## Euclidean UMAP"
   ]
  },
  {
   "cell_type": "code",
   "execution_count": 10,
   "id": "fcfa82ff",
   "metadata": {},
   "outputs": [
    {
     "name": "stderr",
     "output_type": "stream",
     "text": [
      "/opt/anaconda3/envs/FlatlandAndBeyond/lib/python3.8/site-packages/umap/umap_.py:1865: UserWarning: using precomputed metric; inverse_transform will be unavailable\n",
      "  warn(\"using precomputed metric; inverse_transform will be unavailable\")\n",
      "/opt/anaconda3/envs/FlatlandAndBeyond/lib/python3.8/site-packages/umap/umap_.py:1952: UserWarning: n_jobs value 1 overridden to 1 by setting random_state. Use no seed for parallelism.\n",
      "  warn(\n",
      "OMP: Info #276: omp_set_nested routine deprecated, please use omp_set_max_active_levels instead.\n"
     ]
    },
    {
     "ename": "ValueError",
     "evalue": "Mime type rendering requires nbformat>=4.2.0 but it is not installed",
     "output_type": "error",
     "traceback": [
      "\u001b[0;31m---------------------------------------------------------------------------\u001b[0m",
      "\u001b[0;31mValueError\u001b[0m                                Traceback (most recent call last)",
      "Cell \u001b[0;32mIn[10], line 1\u001b[0m\n\u001b[0;32m----> 1\u001b[0m \u001b[43mget_UMAP\u001b[49m\u001b[43m(\u001b[49m\u001b[43mnormalised_euclidean_pairwise_distance\u001b[49m\u001b[43m,\u001b[49m\u001b[43m \u001b[49m\u001b[43mlabels\u001b[49m\u001b[38;5;241;43m=\u001b[39;49m\u001b[43mlabels\u001b[49m\u001b[43m,\u001b[49m\u001b[43m \u001b[49m\u001b[43mspace\u001b[49m\u001b[38;5;241;43m=\u001b[39;49m\u001b[38;5;124;43m\"\u001b[39;49m\u001b[38;5;124;43mE\u001b[39;49m\u001b[38;5;124;43m\"\u001b[39;49m\u001b[43m)\u001b[49m\n",
      "File \u001b[0;32m~/Library/CloudStorage/OneDrive-UiTOffice365/Documents/PhD/code/MI_Across_Space_and_Time/FlatlandandBeyond/GeometriclyAgnosticEvaluation/src/agnostic_metrics.py:332\u001b[0m, in \u001b[0;36mget_UMAP\u001b[0;34m(embeddings, labels, labels_dict, space, k)\u001b[0m\n\u001b[1;32m    291\u001b[0m fig\u001b[38;5;241m.\u001b[39mupdate_layout(\n\u001b[1;32m    292\u001b[0m     title\u001b[38;5;241m=\u001b[39m\u001b[38;5;28mdict\u001b[39m(\n\u001b[1;32m    293\u001b[0m         y\u001b[38;5;241m=\u001b[39m\u001b[38;5;241m0.98\u001b[39m,  \u001b[38;5;66;03m# Move title closer to plot\u001b[39;00m\n\u001b[0;32m   (...)\u001b[0m\n\u001b[1;32m    328\u001b[0m     showlegend\u001b[38;5;241m=\u001b[39m\u001b[38;5;28;01mFalse\u001b[39;00m,\n\u001b[1;32m    329\u001b[0m )\n\u001b[1;32m    331\u001b[0m fig\u001b[38;5;241m.\u001b[39mupdate_traces(marker\u001b[38;5;241m=\u001b[39m\u001b[38;5;28mdict\u001b[39m(size\u001b[38;5;241m=\u001b[39m\u001b[38;5;241m4\u001b[39m))\n\u001b[0;32m--> 332\u001b[0m \u001b[43mfig\u001b[49m\u001b[38;5;241;43m.\u001b[39;49m\u001b[43mshow\u001b[49m\u001b[43m(\u001b[49m\u001b[43m)\u001b[49m\n",
      "File \u001b[0;32m/opt/anaconda3/envs/FlatlandAndBeyond/lib/python3.8/site-packages/plotly/basedatatypes.py:3420\u001b[0m, in \u001b[0;36mBaseFigure.show\u001b[0;34m(self, *args, **kwargs)\u001b[0m\n\u001b[1;32m   3387\u001b[0m \u001b[38;5;250m\u001b[39m\u001b[38;5;124;03m\"\"\"\u001b[39;00m\n\u001b[1;32m   3388\u001b[0m \u001b[38;5;124;03mShow a figure using either the default renderer(s) or the renderer(s)\u001b[39;00m\n\u001b[1;32m   3389\u001b[0m \u001b[38;5;124;03mspecified by the renderer argument\u001b[39;00m\n\u001b[0;32m   (...)\u001b[0m\n\u001b[1;32m   3416\u001b[0m \u001b[38;5;124;03mNone\u001b[39;00m\n\u001b[1;32m   3417\u001b[0m \u001b[38;5;124;03m\"\"\"\u001b[39;00m\n\u001b[1;32m   3418\u001b[0m \u001b[38;5;28;01mimport\u001b[39;00m \u001b[38;5;21;01mplotly\u001b[39;00m\u001b[38;5;21;01m.\u001b[39;00m\u001b[38;5;21;01mio\u001b[39;00m \u001b[38;5;28;01mas\u001b[39;00m \u001b[38;5;21;01mpio\u001b[39;00m\n\u001b[0;32m-> 3420\u001b[0m \u001b[38;5;28;01mreturn\u001b[39;00m \u001b[43mpio\u001b[49m\u001b[38;5;241;43m.\u001b[39;49m\u001b[43mshow\u001b[49m\u001b[43m(\u001b[49m\u001b[38;5;28;43mself\u001b[39;49m\u001b[43m,\u001b[49m\u001b[43m \u001b[49m\u001b[38;5;241;43m*\u001b[39;49m\u001b[43margs\u001b[49m\u001b[43m,\u001b[49m\u001b[43m \u001b[49m\u001b[38;5;241;43m*\u001b[39;49m\u001b[38;5;241;43m*\u001b[39;49m\u001b[43mkwargs\u001b[49m\u001b[43m)\u001b[49m\n",
      "File \u001b[0;32m/opt/anaconda3/envs/FlatlandAndBeyond/lib/python3.8/site-packages/plotly/io/_renderers.py:415\u001b[0m, in \u001b[0;36mshow\u001b[0;34m(fig, renderer, validate, **kwargs)\u001b[0m\n\u001b[1;32m    410\u001b[0m     \u001b[38;5;28;01mraise\u001b[39;00m \u001b[38;5;167;01mValueError\u001b[39;00m(\n\u001b[1;32m    411\u001b[0m         \u001b[38;5;124m\"\u001b[39m\u001b[38;5;124mMime type rendering requires ipython but it is not installed\u001b[39m\u001b[38;5;124m\"\u001b[39m\n\u001b[1;32m    412\u001b[0m     )\n\u001b[1;32m    414\u001b[0m \u001b[38;5;28;01mif\u001b[39;00m \u001b[38;5;129;01mnot\u001b[39;00m nbformat \u001b[38;5;129;01mor\u001b[39;00m Version(nbformat\u001b[38;5;241m.\u001b[39m__version__) \u001b[38;5;241m<\u001b[39m Version(\u001b[38;5;124m\"\u001b[39m\u001b[38;5;124m4.2.0\u001b[39m\u001b[38;5;124m\"\u001b[39m):\n\u001b[0;32m--> 415\u001b[0m     \u001b[38;5;28;01mraise\u001b[39;00m \u001b[38;5;167;01mValueError\u001b[39;00m(\n\u001b[1;32m    416\u001b[0m         \u001b[38;5;124m\"\u001b[39m\u001b[38;5;124mMime type rendering requires nbformat>=4.2.0 but it is not installed\u001b[39m\u001b[38;5;124m\"\u001b[39m\n\u001b[1;32m    417\u001b[0m     )\n\u001b[1;32m    419\u001b[0m display_jupyter_version_warnings()\n\u001b[1;32m    421\u001b[0m ipython_display\u001b[38;5;241m.\u001b[39mdisplay(bundle, raw\u001b[38;5;241m=\u001b[39m\u001b[38;5;28;01mTrue\u001b[39;00m)\n",
      "\u001b[0;31mValueError\u001b[0m: Mime type rendering requires nbformat>=4.2.0 but it is not installed"
     ]
    }
   ],
   "source": [
    "get_UMAP(normalised_euclidean_pairwise_distance, labels=labels, space=\"E\")"
   ]
  },
  {
   "cell_type": "markdown",
   "id": "e995c54b",
   "metadata": {},
   "source": [
    "## Lorentz UMAP"
   ]
  },
  {
   "cell_type": "code",
   "execution_count": null,
   "id": "274d829b",
   "metadata": {},
   "outputs": [
    {
     "name": "stderr",
     "output_type": "stream",
     "text": [
      "/opt/anaconda3/envs/hcnn/lib/python3.8/site-packages/umap/umap_.py:1780: UserWarning:\n",
      "\n",
      "using precomputed metric; inverse_transform will be unavailable\n",
      "\n"
     ]
    },
    {
     "data": {
      "application/vnd.plotly.v1+json": {
       "config": {
        "plotlyServerURL": "https://plot.ly"
       },
       "data": [
        {
         "hovertemplate": "color=7<br>x=%{x}<br>y=%{y}<extra></extra>",
         "legendgroup": "7",
         "marker": {
          "color": "rgb(229, 134, 6)",
          "opacity": 0.7,
          "size": 4,
          "symbol": "circle"
         },
         "mode": "markers",
         "name": "7",
         "showlegend": true,
         "type": "scattergl",
         "x": {
          "bdata": "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",
          "dtype": "f4"
         },
         "xaxis": "x",
         "y": {
          "bdata": "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",
          "dtype": "f4"
         },
         "yaxis": "y"
        },
        {
         "hovertemplate": "color=2<br>x=%{x}<br>y=%{y}<extra></extra>",
         "legendgroup": "2",
         "marker": {
          "color": "rgb(93, 105, 177)",
          "opacity": 0.7,
          "size": 4,
          "symbol": "circle"
         },
         "mode": "markers",
         "name": "2",
         "showlegend": true,
         "type": "scattergl",
         "x": {
          "bdata": "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",
          "dtype": "f4"
         },
         "xaxis": "x",
         "y": {
          "bdata": "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",
          "dtype": "f4"
         },
         "yaxis": "y"
        },
        {
         "hovertemplate": "color=1<br>x=%{x}<br>y=%{y}<extra></extra>",
         "legendgroup": "1",
         "marker": {
          "color": "rgb(82, 188, 163)",
          "opacity": 0.7,
          "size": 4,
          "symbol": "circle"
         },
         "mode": "markers",
         "name": "1",
         "showlegend": true,
         "type": "scattergl",
         "x": {
          "bdata": "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",
          "dtype": "f4"
         },
         "xaxis": "x",
         "y": {
          "bdata": "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",
          "dtype": "f4"
         },
         "yaxis": "y"
        },
        {
         "hovertemplate": "color=0<br>x=%{x}<br>y=%{y}<extra></extra>",
         "legendgroup": "0",
         "marker": {
          "color": "rgb(153, 201, 69)",
          "opacity": 0.7,
          "size": 4,
          "symbol": "circle"
         },
         "mode": "markers",
         "name": "0",
         "showlegend": true,
         "type": "scattergl",
         "x": {
          "bdata": "+pIxP8iL4r2bQqG9kI2MvZbIxzzG4i0/lYB2vkaoDL5bLh++yFFhvkbQQj1DXy4/S5/fPLfeEb5UOyS9VIs9P/hfFrw9Ii4/gsFnvgQicr7tKHQ8H/kEvaNK9b0+F3C++vBivk55wb2XhSc9DIbrPQ2MGT2cojo/b3cvP5uIY77CjGi+XQEEvga8J7584vq9IdEuP4pvHL+0jTi+sqkbPSnWI75FIDY/zdPfvchpDD3Dvze+mIA0P0LNdL4lLmC8LIihvBAKZ75Ak8G9pGM2u3T2dr7C61S+ApFnvoHRCL3f9Ds/H84tPZLtML6PL2E/ukUePzoDKj/jake+QWcTv1F+Xr7xFnw9bOZsvdkQ9b2wHnW+Ai4zPd7Kdr7ruTy+EX35vI2kMz8RFhO+zQchP3edbb3JC+S8pAE8PwpPdr4f0l++NWnMvTv+B70VazY/8NQKvdiFij1MnGG+K1ctP2xw4L1Kvke+UUQpvkclLj+0yDU/CkNRvDWBBb34xkE/JfMuP7qbE7/qqTc/qss2P/MOqL3WAEa+Ik5jvoYJX77EctI7Si0XvsEsYT1uuWe+yi0yP2ZOQj/1D9c87PAlvesZEr7RNs+9A7bRvSEHRr75TFM/3Eg3PzYqLj+kljI/FjrJPMDtBb26ZT8/YEA0vmoid771nSy+wBvAvIq+4LzmYl2+5T0uPzfgQT/fxCQ9BpjYu2Cs6jxdajk/C9tqvrt+Lj/5bG6+tl1DPB4zMb5cUCK+EodBPyQgOTznWVm+eMM/vkuXWb7xKiu+opb7vSvj9rz2+yC+k8pHPfpdNz8fODA/Egb2vaq8DDtW8Im7ET0/vmeSzb1IKiU/cBxNvtzjdL46czY/+KUqvUJIMr5sxVM/jCQHvplRV75N61u+hPnCPLzVNj+MPhe+Dc4zP+EmRjvLIWe+6/pKvplaQr47Yzs/RfQ/ubdu573hVS8//YA/P6pCNT/6/zM/PWnxvKj6Lj/XVSM/BA6KvInL+LxN5FG/CuAEvmHcMj8M0DA/Ve9BP/X1J774p1I9Xm/nvZR4WL6PWk2+jxNZvvuxr7xM4FI/6QiCvMEcQD/9Jjc9o7povlA2Kz9jW4S+wweYPJe3Mz8LsVG9yASBPUKkKz95KRG+fVHBPjPrOz/NgjA/RVH0vQVGW77r2yY/J8X5uzmeQz0AaPq9DBWNvdLlMD988WK+4wp0PkvvPzwOUTO8YoRVPSswBL5q9lw+J1N1vg/IdL7ajB4/angbvjGvvL0nto69PDcyvm8eSr6GqIg81pJYPx22mL0k7NA8jVw2P/kyF77BbcW8a7AqPR23xzzsgIU9zrXiOstFLj81oFS+PPQPPE0Tdb5ZxR8/D5lcPY/ZPT0IBmC+zjT/vA3ThL6clt+9ATN1viV+QD918+q8LY42P/4uQD9UTDA/wC81PzVJuzsGEkC+kZv+vZXjI77pwCi+cmpYvqBJXD1iTyC+BK8rvnTliLyBuRu9eoAuP1vNl7zESTk/oC1fvioec76DXB++BJHrPBYhND9Wz0E/khIvPx+bLz8MLza+vPR3vmNLLj8cqhi/h8ACvfMABjxoIe+8IUQZvdJfLz4oLEc9Z5WZO7/yPr6yLQ2+SewvO5KJ5zoo/kg97GF2vpIUQj9zNNy90QTEvfOgpr2GHfq9E1gxvjbnOz/yJLm8ubGGPW/3Gr6WnNe8S35BP5gKB72Fmja+J0AuP4LM1LyR7iI9BMD1vaPPgL2mV4s9aa9XPZMG+L0MPyu+BA5aPYH3ab2c3DU/A4B0PPUAQj/461w9tj4Avjo+h72glri9VCE9P4eYNT8Bdy4/blYwvsl9PT+kImK+dHNlvmtHRL5YUBG+8nNIvokNdb40Eze9PLYuPxJVJb38yBO/HYf+vRGx8r0CF16+mMPpPLpSb74WCmu9GR0Vvl1pLj+qbSo9eH0mPx0nd76fAnK+OGdHPVOhC76Pxnm+2exBP/lLPb4FRD2+4wX3vYIZRr5yoli+wkGFPfL5oL6Xuii+i7tGvk6acDrFA2m+mU8pu34BbL5q3KU+nvzsvcueU74HTR8/DNgyP0AQLj9gffi8vH92vuYy37tZ1hO+wKwrvsJmNz/I0wC9laBlvrNhIz8EO12+poRmvgRwCL3G0CA/UwMqvmrpGD3izQW8izpbPc1WND9yWVu+RxMcv6d98r0bE0o9H/eGPegw+7vAeS09vcxEvlp2Wj2lKC4/opBbP6JqND8uXy0/xP2GvJsmtL17dSe9qCx0vrW5vr29XyC+pdUhvtaYdb5ehUq+Zj/fvASYPb4429k8yf90vugiNj9HLUA9/IcRvmgKNT1VAru9JudBvjZtvb3Q7rW9VUrsu7JjMj8yWoq91sU1P2XvNj8cWni+ipWkvgyRLL6+O+29eLo3vQ/9Xb4U2HC+298ZPSKVCL78MXa+y0inPAJJhz3slWm+ivg3vhVcOj8pBj4/xxI1P/mwPT9yGDk/mFgcP2GtOj8AbiY/PlkqPy4+Jj/vNig/HtomP7KCIz8AAik/bNEiPy/iJz+c9x4/V8o+P0MlCr3kxBG+rS82P8TLdb4qDB4/2U2BvTLZPj/XCDM/bcc6PzMeJz+qPjA/8ztbPWPuIz//3y8/ak8EPf1FMz8A5DI/GvExPfMS3r3AHTu8HqIVPQacF7waDBK+1SAzPwMUyLxScB6+/7h0vUNauL03eDI/7lyWvaC9Jr5PkSO+mYa2vYaY8bwjRY290RwrPyQ/v7wJrNi9aeEoPlWwNT8qNzA/6t6UPIyfi73OoIo9o8MhvrCuS70fVh4/q1Novk9UdL5PZbg7P9opPZTr1rz6NFu+0l0nvpQ/Qr5Wlze+gnhOvipANL4nKzu+irgcPTc6Sj1EPAi+e3UeP5XEIz8T4S4/6s24veZkIT8Fazk/Xuw1P8ePMD9mjTO+jMEjvq6AJD8HKT4/LC5kPX5ULj+EWG4+gMSHPRD0tr1ZI/u99qvpvV8AS74tTB6+ZtsrvnrQd77XFoc9/J4KvrNyd76pHia+k4NXvt7bPL4Odm6+0YxbvuyGKDyz0hw/RE8iP2iFlL2xnu69e8B0vRfhm736Eri9f+8dvtKGEr4ZIo69C0DsvUT6IT+trIC9w3UrP0mPBL3rVoa8YJ1YPc1EOz9kwTM/UwtZvisZxL0L/Ke649okP2ZMKj/3dyQ/Vuc8PUmX9ryTWLC9y1hcPcNI+zvaNy8/Y+EpvYXRMD+r5X09hFs2P+A99juo6No8wkZQPV/vyb3MA7K95hQuP9WfND9K7Ss/tBVAP6hmQT8LBS0/3bMkP/DpJj/CZmu+5r9Cvj6ndb7nizo/RqghP5khPb5IeMK9ob8vP/lqCL5kGhe+0427vACYiz5kIjs/ns1AP2mQdT965T8/oM00PRB2Hj9tPyQ/p2Q3P6jjJz9D8iE/T6keP7bNLD+jmzq9gWU7P8JcHD8ijjk/jPgrP3IDRL44BYS9djZnvGyiE76YKHS+KE+UPDRoqrxaJHw8ahonveM8MT+RVIG84x4xPyBRMD90jTA/r7QjP0Rc8L12UC4/1HI2P8CRMz+Wuzs/CA0vP6J7NT+WR7U8MsE2P5frLj/gq0E/+i40PzRILj/QOeE8gVJCP43kND+6HjU/XvU5PzBzQT9NJz8/RNFAP6oeQj+aiz0/dVUAvrmIfr2WZo+96/stP+DnWj9rSyU/nze5vLwNOj/f9Dc/DwwyP8+XPz9+QDM/LzgvPyVYYj3zdyc/N1ksP9QwPD9fKDE/3Hc2P2HpPD+PuTk/44Q6P4kGOT8Izzk/g8zfvT7DQT+29Tw/CipAP6kTPD9XRj8/kcc7Py/5Pz9AzD8/m2I1PwNYPz+n6D4/RQQ8PzZaNj9DRzw/M09CPx/lPT/wkSg/bHRAP7n2Lz+QgAO9K7FFvgTC6b0v2S4/wj5iO3EvCb6pvM29kXksvsuYBr5rz8O9/JypOjjADr3Q+zq+5HU1P91Zib0qBCI/qmx/vQEqeb1F8iE/RvodP71CHT+h2yM/+v8QvpEZHD//aFy9fqInP0GhHT8/5h4/mBohP/HWIT9Vvjs/aG4fP9iNHD87LB4/uZQfP8HLKz+FJx0/xQduvhfmw71i20G98AgeP0wpID8Z0iI/vxAiP2//fL1fDyI/dU0iP1LcNT8uGLS9AynFvXc5Xb0B2i8/9nsuP0zjIT8siX296WceP2Qhzb2QwLm892EjP5cMjr1aLyI/dvEfPyIzKL3Oyz0/VjIjvliZOz84Y2O9lJ8Bve3APz89cCc/c6dIvQ0tdb5VDYu9FNU+PyeVPD8E7Mi92PlXP4DoJj9SgQO9ywM8P2DiKz9WeyA/Zbs6P73cOj90FDw/0OA8P/ICPD8vcTQ/3bg0P0aWQL5Jkl6+mp9vvsjKHL48rL296qonvqgpJT3QYiS+jlETvuvMJL6Boza+5apfvqH4Or6ADyG+ehaRvXnL4L3a+Qa+UtXLvF/puTwvM+i97IzHvQMukr2lGIi9R0Udvu0fwTq9BSg/9UojP5XOKj/n4S8/WDU4P77MOj/inUE/ey4vP2U0LD/N7S4/gdczP6g/Mz8tt+y9eWcjP+MoKj+b9zM/LkY1P+IUPj+xRys/GCQ7Pz3yNDz8Zjy8AWU7P72XNj8+3Tg/8Ds6P72jMz8Eazw/2cwhP1p4PD/85tG9D0VgvQ7bJz/xL0A/oIE/P+lzNj/PNDs/1y2RvSC0FL5AdxG+GzgfP8byYL6iGo+9pX5rvfAmh73rsr69coOuPKX0Db5nPh2+JD0sP8zPJz/sJTo/vL7yvWT8Oj/i1yM/PfIuviE1JT8RrH29pEk/P6dqx7125c69LzY0vhuFEb6BOHG9bXz3vSvONr2A+va9Z4gOvilrKb7G1AS+yAvuvcPDd77J4mG+EK8nvmlAab72KQ29GB8Zv11Z4jxPISS+A15svobmXr5IoJe9goU1vn4xc75LJxS+ZMo/P9F5DD3RQXW+4dqPvXiAPz+czTY/uzkrP/RYJD+FXR8/Z/8wP2RDOj8uyT0/BXl1PzVRMz9kfDY/KHg0P+YoQD/qHj8/P6s8P780QD/O5S0/oIAqP1YePD9HGEA/Vfw+P6RJOz9Lrj4/qQhAP01BQD/9pz4/0mMnP8GePz9QyT8/ZNdBP5lDPD9grz8/gn5kP+D9QD9iuCQ/z60/PzZJNT/7dTU/zNA7P0iwab1tyD4/dVMnP4g3Iz9eAj0/pUm2vchCIj8=",
          "dtype": "f4"
         },
         "xaxis": "x",
         "y": {
          "bdata": "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",
          "dtype": "f4"
         },
         "yaxis": "y"
        },
        {
         "hovertemplate": "color=4<br>x=%{x}<br>y=%{y}<extra></extra>",
         "legendgroup": "4",
         "marker": {
          "color": "rgb(204, 97, 176)",
          "opacity": 0.7,
          "size": 4,
          "symbol": "circle"
         },
         "mode": "markers",
         "name": "4",
         "showlegend": true,
         "type": "scattergl",
         "x": {
          "bdata": "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",
          "dtype": "f4"
         },
         "xaxis": "x",
         "y": {
          "bdata": "GHtfPnfqGT+vprM+jf9cPX+gnD6SCUC/cE7jPo6srD6ogRg+zJN1PthGrj78HY8+uDqiPi/MAT8n1EA+Yy34PqEXDD+F0sQ+iwImPgmmZj8KJ2M/TFCYvrdD3j5E4lI+0VW8Pv4xxT53F9A9jmnGPsIwkj5UTt0+NLmyPoUwr77tRp0+6+2OPoGYlz7wIpi9UdBZPK32Oj8MQi4/Z2sdPyljZj/qcoS9ygmmPoo9kj6SKz4+MwtZPklog73kuGY/Grh5PhAoZD8UNoA9biRoP1fIjr3mu84+jUoGP1M8bT+g0N0+T3faPiNqPz5jDnQ+QORcPjYTUj4kZis/3+oVPqT6Bz93qNM+84XDPX8l9T7Qmqo+VVqpPuh0fz38fXA/PeeHPgAAQz9yags/KO/XPZKb1z0UQgY++1sXPgilEr0R+2Y9u5SZPePGuz5EadQ+ZeBdPxkjKr0rPvA+5gQMP+q8nD4TS4K9FrIVO50AQj4qrJ0+91kNPo6qaz8Z4HI/ys4DPM0BBz6VYQs9+4d4vXVIrj5usw8/XGymPt8vj72M+8w9NKUXPwD8cz3Dc5c+o69EP7HkOz67zAo/emxTP9R/cj5yQ3A/77l0PreCkj67xCg/DD2aPqfJFr0SLsA+hWqFvu+ScT5bDAw/J8jIvjDjDT8+hC4+KvizPrsQLr1HCI69PvQtP+6GnT7A7G8/ZcU/PiOaXT/bUV4/XmpeP/7zqz7KzkA+EF2CvpFLEbxnC4G98DXfPfjPEj9Ez4e+7nKsPlY2Zj8T/dE+f+2oPrF2cz7FebU+1SdXvTxkuj4PjNM+fEgXPk57XD1+hyg+e9RMvWf+wj4Cekq9eiIFPsS7MT6m0ac9BpVxP5QCfD2I+8o+d0E8P1gxOD7cxZ4+6+RAP8SdTD5r2S29epd6PnmdGD/PSce+uz/QPk8HJz8Dx0c+76bUPcOjCj+XfGU/xyWOPoDqBT/+qTU8LehoP+W5LD+qQ6k+NdgVPvQjmz3J/zU+PsIlP55NqD5YXWU+9ERJPhrDmz4nFqk+jsuWPUiGij7Pwxk+BndxP1TvPD6XaOE+bJNmP0V+rz1wI9o+9G9fPzdfxz6JeNs+Ldg8vaGUvT5NRG69EitkPnd6QT6Kq14+OeyPPp8RDD9Osdk+oR6MPbwPCz7P94894qbfPtKzjz5ujnE/Z2jjPvmkND+llSc/9oUdvfy7Aj8zGg4/2K+OPifuHT+mA3A+N3YmPyO+ir0yGFk9I3aoPpjC0z5NKvo+p2gsPufAOz8+QYy9EItmP8w+Gj9ORtE+iyLtPjDfHT+ArFo+v6/UvH+7H73cOAm9e5zPPrtHWz84zRw/33EuPtHDjz4xEw0/jesIPj/boT7Ef0I/S4vDPhXkFT79pRE/bCOBvfee+z6OZx69Lg2nPoNFej55DAY9U0CPvZ+FnT5NnC0/ChZhP39xdb0N8v89RQIZPtkdPz5SRQs/fCulPRlh1T7SWgU/rQIcPtNpKz9tJLO8ipDTPQyUzz7AJmc/eAONPd41pj75lZU+tSXNPjiPzD7eMWQ9aYPKPTPrAz/2kd0+7e2pvjuRwj5rs4Q+hfFmP93xDD9xGCs/FdnIPkNlGb19ydQ+9NtjPswimz54oHI/Qw50vTKUyT6AnxU+v63ZPuZWoLwYpL4+bG1zPuj5jz54irC8ScthP1XOHj53nGM9HmbkPqFuCj7+UEc+CQr9PutELz/wVic/8OKVvU27qj5Nfg0/jhpzP6Iz7b7h2ck+9WBoP0+Iqz7KiJE+Ovn1PkDQ/T5kegM+9LBePnkODz+leXE/MIxcPsRtETulcq0+vx+0vPyXBD04UdA+4xUKP2ebQj5SRDE+RlqoO2L4hD66OCs/MRegPnA6cD+GyiW9qOTtPiW5LrzAci4/MNENP6qBVz4JUXI/SIKfPf3yVz/A/uE+ksedPkz5Kj/t2wE/kG5HO3NupT1E5+w+Yy0TPuyaWrv5T5G98LnCPmcmhj5ONXg+YAkOP8VTWD5x5I690Wo4PamHJD9H7GM/t8vbPocBWz6s0pG+kpEcvddocT5EZ/w+EtaJPujJoz6kNls+fcmPPp0mGz8a9ss+Kvg9PlT2Nj7RWAk/76tcPyaaXD4IJAQ/6dEIP5Q/Uz7qn4Q+hNCKPsM69L66dFe7Kch2PqMvAr0G0kC9KEyQvalwXz7/5Ty922DuPt1r2j77R7q+EoedPs4zaT+nx8u7VPnnPqPz+z5viYK9IX5UPztyFz+4Yws/z/QPPt/TmD5I+h0+UQMsP3oh9j5tIhs+WrumPnUfaD35FTY7vPnLPeh6g71yJTg+sf7TPiyKBz+DfNg+KyqIvVVJQL9B+cG7wdsDP+7GuD2e1vE+jOudPQDG/z40YIM+4ZPpPsDfZj/tSmc+mAPYuxlS4j6MOWY/kZcXPjz7Hj1weGY/X1gUPpzaIj9U5+Y+vBOcPu7pZD/e3/A+AbbuPsa7lz5D+1U/QuO+vmOtej4yt+I+ym7EPmGUXT9MxiA8NmNZPik3Cj9obK479eP1PlJSrD7cRTo/yJMSvVa5+z7Gtr8+UJYkPZHPCj82U2c/7rpCO4SMqj6RtFq9kZEsP6sSkD3NEaQ9FAs/PtbmsD5OTdo+OkTTPsA31T7pa9M9pqorPwvpjz6noXM+B/XSPngG4D699wM/3VhyPxKvYj8fBGI//g4tPwNjZj+SnnA/PqhwP4JdcT/9B2U/3N4wP3xYYD8SUmQ/CsxhP0tHZj+Ta2c/FZdoP1ycMj7v9RI/uYx/Phu9xj5PlsU+CFY1Ps1WPT5ZxKg+ncIaPqafFT61Mdo+cNs/P+7BMD91SAU/zd4LP28K+T7IWis/0PokP0cGAT8TUho/xlnTPqMC6D6fjAE/CXMTP1bi9T57Imc/0PpgP2zwZz8T4mA/l59zPz8fJj+iJnM/AjApP29aZz/cNgw/NahjP9eecz9FJ5Q9gXFCPmAhsD6OLAU/7SyAPpFO0D73ZTw/A5gDP+I0nz4zJas+9GjLPs/NBz9zVGQ/VffpO6CsNz8nPFo/ZsOYPhUGrD63xZU+KN4jP8jnZT6rHgs/QxAtP37G4T7gKB8+y19kP8qipj4CR6U+00ZAP6YVZz7pw/U+hjQGP9yV2z7i5UG+vTyIPq4I/z5ALco+mkfXuz1szD0FRxU9ag7xO6skEzxiGZg9/8pAvZxX+zzrofE7qtayPRusgT0hG169gh8PPTimVz6DVCq8sRidPhclbT63TI8+80WgPoMnDT8fZPo+2mTUPhoUBz+36gg/qCilPgP3Cj9Tup0+cJAnPwbRrD778uM+AAYPP2iMZT91NKk+8xT6PrZUJz8abSk/9kMJP+N5QD+SXeo+xUyaPikPmz6iUew+PHyhPgJZ3T7IwdI+1nKgPs5CFD8nJXE/ZkwdPwmzKT+dJ2M/81FkP5uNaD/8oSY/xfBlP76waD+9cg0/WAD2PtIloT70GSc/hv5lPzE9Hz9F/co+0ewOP6D9aj/nYSM/p4hgPzWp5T6GDho/T2tmP9ggcT+KMnI/TNYkP2OHFj9cI2w/sTBzP4X3AD8ldCw/gyUsPxi8Zj/MW2c/RhQoP7oYQD+aXXA/vPVkP3vCcz8CEG8/KUfEPtyryj5V0YU+93zcPsyGBT9G5qs++Yy7PsR9Wz/nIqC+Kj/IPiMsjz6ijr8+CITcPufGHD95Ni0/o1ZkP9QSJT8Z2k8/lbdoPylkcD8Wsmg/PGxwP+qJWj/YqWg/d6poPwqmZj9v7mM/FDsxPyNeaD8jnys/slIGPyB3KT9S7yk/JDxgP+vGZT+V3Q8/7ttlP96aZj8DcWY/4pEdPyo4cD/E6W8/Z51lP1iGaj8D6WM/BTpnP1V5Fj9owuE+KmfFPp7bFj8Z2SY/zggWP42hWz/p7ts+bcZbP1/tID/49Ss/uC9fPzY8cT+nrHM/EDtxP2jEcj9L0GY/VE5wP6s4Zz87EmU/r7BxP00gbD/InnM/CRFsP2KGKz8wbXM/T7NjPzW2cD9gwXA/IeFwP37mcj8ugyI/LbNaPvFUHz59Izw+l55nPmFufT4gc7g+nRAePkJbWz6I9G4+MGHBPuNHkj7mrWc/EkwnP7SJaz/to1w/E/5kPwJEKj+Er3E/DtQPP9/IID87jmQ/xGNlPw8Hcj8N0ik/UpAtP6cYBz/6DRo/15lxP7AEZT8G3SQ/25Y2P1F1Yj/BArC+FtVwP2EkFz/+9GQ/7XkSP/vHJj/amxc/mqsKPz6QBD9MZQQ/4h11P8dv9T4ndXE/9OpiP920aD+32GQ/EA9nPw3Bbj+GWWM/+50sPyjJKz9PoaM+AfdoP55PYz/vsi0/hH1kP02hZz+hTmQ/EExkP5YQcD8aaHA/p3RmP3y2Zz/9oGs/EaJkPyQ9cT8fmPc+BIK1PrFwpj6TiA0/DyIkP5TgDT8SsSw/8D+bPvC8nj5otGE//hSePjPDtz4Ffsc+ij34PgyNvj6fn3s+ywZ7u18Quz7cDak+BEyePLZkSL2QBDc+J3RbPtT3yz5xxDI+BXlyPosNjz7rW6g+38pjPkNQyj5gqro+AtpVPsGCjj6B4vk+aw0BP3pPAD8oeN4+IRUpP+wboz6hyaw+s834PnGMpT4uPCM/IKELPydBAj8efQM/8Q0nPwQpZT9ctGs/+5HUPpc89z4Zy/8+RyYoPzTvKD/T7mY/dcIsP/PPZj8qFjE/GeMrPx39aj8myDA/sJ9kP6TrMD8xW2Q/rRUxP6iaZT/UEjE/7YRxP0AAMT++IVs/VYJrP1C6sj7pE8g+lwu/PqCchj4m568++lbvPg5MGT+kDMo+uKoFP989Bz/YvXI/1u9uPyRzbj9YIGk/lH9wP2yBaz/PW2o/z+VxP5+4Jb2ypyE+tjR6Ptehvz5xL9Q+nyZvPoykjz6fR8w9eS1APrPF47unvJ+7bw1YPoQHnT4eVp0+9JsoPvcBJj4+OLs+Rm2gPhZ4L7zgj50+Y3oNP0RZJz/bqkA/qRJlP+1RcD+c8Wg/cQ8kP4mXAj/fIZw+q2QnP7PoZj8LqUE/+BANP+rHLD+efHM/6rNoP2SEcz+i6Ss/yKdxPyFacT9NT3M/DA9kPzCMcz8/uGE/6G5wPxrRZj9QpmY/AMRoPwhLcT8WVmU/IHwcPw0raD+2yC0/lXwqP2NZqT49Vho/Qg3UvgDrcj/MI3M/Bp5mP0+McD+9oWo/x5oZP9EoAz9oMwU/rLtlP2eJcT8Jhxo/qhBkPw==",
          "dtype": "f4"
         },
         "yaxis": "y"
        },
        {
         "hovertemplate": "color=9<br>x=%{x}<br>y=%{y}<extra></extra>",
         "legendgroup": "9",
         "marker": {
          "color": "rgb(36, 121, 108)",
          "opacity": 0.7,
          "size": 4,
          "symbol": "circle"
         },
         "mode": "markers",
         "name": "9",
         "showlegend": true,
         "type": "scattergl",
         "x": {
          "bdata": "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",
          "dtype": "f4"
         },
         "xaxis": "x",
         "y": {
          "bdata": "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",
          "dtype": "f4"
         },
         "yaxis": "y"
        },
        {
         "hovertemplate": "color=5<br>x=%{x}<br>y=%{y}<extra></extra>",
         "legendgroup": "5",
         "marker": {
          "color": "rgb(218, 165, 27)",
          "opacity": 0.7,
          "size": 4,
          "symbol": "circle"
         },
         "mode": "markers",
         "name": "5",
         "showlegend": true,
         "type": "scattergl",
         "x": {
          "bdata": "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",
          "dtype": "f4"
         },
         "xaxis": "x",
         "y": {
          "bdata": "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",
          "dtype": "f4"
         },
         "yaxis": "y"
        },
        {
         "hovertemplate": "color=6<br>x=%{x}<br>y=%{y}<extra></extra>",
         "legendgroup": "6",
         "marker": {
          "color": "rgb(47, 138, 196)",
          "opacity": 0.7,
          "size": 4,
          "symbol": "circle"
         },
         "mode": "markers",
         "name": "6",
         "showlegend": true,
         "type": "scattergl",
         "x": {
          "bdata": "CVgfv3H6Zz4KlxK/BYZjP6IeG7+XoB6/q12bPljuFL9KZEk/3ZOMPks0G7/G7Dk/CvZRPxaEVD+VXTY+frNcP1E2Eb+jIFU/IjQQv6rFYT+UPB6/LWBgP2wXK79SQFw/4OVmP/nigj6AFRC/4IGmPlymG7/9CIA+XBKMPmdFrj6GsU4/8LaWPkTMWz/OATK+x8yhPtJcZT9wSBO/r5YdvwkxH7+hcBa/O6VhP8IEYj9t8Bu/SgmJPlS3lj5QbBO/4H9kP5/8Oz5N0wc+GQtPP9n+gj7b1xu/UiJcPpBmWz8664I+BadfP7yCF7/FzBy/K+5fP3UiST4aVmA/5X8av0j/HL8PmV4/9XFaP/yxEj5MGFs/oq75OxKeTz+zQWM/q74mPlw+Nz5B+18/oOCOPnIrML6wHyi/PsATvzFgST+k73A+9DNnPzCoGb+SPDw/FiMbvyf/Xj8FXi4+D78Qvx6rE79u/BO/KlLVPuo3VD+c438+hxtmP1EkEr8P/IQ+9U4gv24tYj/IUmA/CINXP5MkF7/GcEU/fURvPpniZj9M9gg+UEFnPwbJYD/AyWQ/JW8Qv5jXij6GuRC/JESGPp7jGD4kxxy/obtmP7zFE79QJpo+4qUfPnTskz5qBRa+1GZdPyrXQD/4omQ/jvIXv+UVGr8kTGg+vPB1vvfrXT/nBWQ/HIEsPgB5eT4Ojhe/gPlaP9eOFL/76YY+yzaGPhSxYD93lV4/ZM1WP0lYlz6S0Wi+KXtjP/IkWD/3238+fCtVPzZnbD7NLmM/W7gdvzDrXD+GBhy/fs1WPh3/bb9sIo4+vCpRPzf7Qr/jwVI/EoteP/cYHb8XMQ+/7T6aPozeKr+nuWU/G79gPzMyRz/jeGA/JA9jP4PRHr/WLl8/HeBkP59dUT+k5o0+9hRcPz+5mz5DgBG/weeXPlFMZz/mxls/Dir3PW9JWj8+ekg/42iDPthlXj9X2B+/9hg2P8MOGL+tLBS/2vFLP5b4XD/QAo8+HQRnP2Iaar5NmoM+GVpIP7W7F78txRi/YWpBPqk2Pz96Eow+hA4UvwYXTD81Tmc/1AuMPtHTIb/3flI+eR1QP003Fr/58yU+c4sFPqySF79ibRS/5g8Rvz9gWz/5KEI/LFleP6DHar/Umko/pKg2v4QTmT5E4l8+V+UuvysoQz5s34E+oSFfPgxxjT6324c+p+ZnPhdfXT8gmhm/ZmeVPr55Yj9sJlo/Z7BQPibYE7+TdWQ/b8dLP1CEYT/iUxo/hHRGPiLzYT9hLxu/oQwXv1KQmT40WCy/m2cav7/YWT+Av4Y+KKsWvx83Zj+l+FQ/Pyw7PoLrgT6bXX4+LGsxPrd+rT4Coq0+r/pYPujBjD5qzR2/jcAcv6mqE7+vzVQ//DltPs+nPz/B+n0+Df/5vb7VEL8yF/U9Q2lbP/o7Jr77lBG/yM6DPqE9Tr/WJVQ/0PtiP0xHXD/hORe/kr8ev8nBkD4Tk2c/vX4Rv/AnWz/7SSu/THtaPiDsgT5u3nw+5E1MP5gIhT4gw1o/zusWv9nYWj+dbF0/dkMoPoRJfD4aMhe/MpgVv0Y7QD/r/ks/A6JmPyPWFr9ab1k/NlRnP3KrZD8YwW++kecRv4G/kD6rnoM+yZRjP/psG7+86kw/d6NcP5lAZT8z6Xw+Yy48P2eDYz/mdWE/g35PP2V4Xj+BOII+ua1mP2hNYT93sVo/nmgsPnUOYT8uQ2I/7rFjP/y2Yz9uyxW/uMNQP20CXj+Ak3G/DyEbvzwGIr/F0aY+ifGCPtwqWj+PLmQ/AGGQPsT9Yz+iNZg+SvwavyT8F7+sdWQ/i4REPwa+Gr9lvBe/FoNBPlkdQz4eO10/zLZxPtm2nz1osZ4+n92YPmc6EL8wr2Q/1qFnP8BYF792OWY/rXZmP3cCjz0j4Ra/WQYdv3bgGL9x7Ri/GBsnvukLaj7f/hy/Ef1fP9ULrj4/ylw+v4FbP7cj+T0Fche/pDQgvyfWYD+qK2A/vsBZP8R1hT6jwYg+2z5bP2U/oz40Blg/hjxYPzQhZD8NSyK/Vl0dvyi1ZT8a32Q/tetUP42wYz/CcxO/m+xXP2qVjD6YMBC//yJjPxiYYz/y31M/G+pjP5KZXj/2Clk/GheBPvl1gj5hals/OZMsvwGqcj5r9he/G8tNP139ZT+oNB2/lT0avyHYF7/elxG/yMAiv6rGG7/QnUU+plGdPvKBhD5M9Us+yqZcP6AtMb+YcxO/gctkPg2gWz9jlSK/PiBUP1S+mT4w8VQ/DqtbP9GzXD/GzEE/O+BfP/hIZT/NBhi/Kc1YPmurXj+bBl8+glkev3+3VD8KUoI+OvFpP0DZmr4G5WM/K14ev9NqGb9pgUA/eS1cP8iRXD+4iVe+Juwbv8yHUz884GY/0mhNP4kBrT7Bx4i+U7v8PduoZj91XWY/LZJcPhZdH78WnJk+dP6jPsGvVD8nbV0+w5daP6KzXj8Ly6k+GVZYPzjnVj/hQU0/cSNUP+CqVD+sA1Q/zEpMP4s+VD/gZ6U+usZbP0S8ST8YzE8/GsVLPZbcE78NcF4+4jBdPoW0jT7pL0U+HwUav/GTiz5TmGg+I2l+Pk6vqD4rTWU+JuqFPiwIST9CbFo/WoiLPu3fTD8WgFQ/qshDPlCwkD4DvmQ/D85dP/PLVD5/PIg+zNVbP0i3iD4Bcx+/tH2tPtPoHb9sGh6/iNenPrCnKD5uzTY+3MyePu+0qD78Q6I+48uMPqcoiD6HpB2/hrcZv5NHID68G0E/nHgzvxwWFr/jqhG/F5ZXPpw2jj43fF0+L84Qv+vSfj6OhRu/EFMKvgiASj7RxEE+OiWMPnYZmT4bWEw/HQquPnmllz7KFEg/1lScPlWGPT8xmqU+RKBNP3P8WT985BG/BvRPP7lzH799yl0/1hSTPsqBPD7NoF0/scGYPrWpXT+oykk/MHyBPm78Wz+xTn0+ZaURvwZkXD7D5RG/KFaCPqAeHb6Va40+sQGPPqKiiz5TpYM+klxaPmifND6fA4Y+32ARv/lBFr9uMYE+tghEP8Kcpz4QPyI+bailPvEyqT7jXie/zx8ev3mGWD/G4qM+eD5RP606oD6TA6g+NvFTP0GdUj4L7z8/i5g/Pz9dkT5/DEg/jpGbPipXVz9f3pM+/gRhP/pbTT58Sp0+FiBOPkqWrT5fhGI+7W4dvx5OOT5Rdx6/ftouPjZtFr91kpw+uoAfvwTwGr/3x1Q/7dpUP2rFYj8dVVU/nSNVP5jSE78lyFs/cwsiv+wkVj9CvFs/8D4Sv1kQcD5EmVk/GlswvwtxXT7pL50+vhhfP8KiZT+cwVQ/f1dUP2GXUz89w1o/96SoPiYLYD8ljmA/xkRUP/gxTj/mvGQ/CJ1hP3umXj+iRkw/6HZTP/JsXz9O0lk+VdUQv5z2Qj4KbBy/zWhIPlLzYz4hgyQ+S0QQv4+TEb999FM+BiZwPjZrYD7tdpg+C7ZdP2voQT9HlTo/q3BHPwKnWD9u2YY+ZxiYPmE4GL/gCUU/vds8PyBVXz+kvmM/58o8P+t7YT8URqo+PK9APwWEQT/wcVA/hyFDP1kAhT6JP1Q/aL5NP3nvVD8LklQ/y89SP8EfWz9gjlg/ZsNUP5+vYz/M018/r0BOP7FxZD/ZgWU/JpZfP573ST8S8Ik+JbSgPr9BTT/T2Wo+u7pWP4dXSj+f8Fs/hjWcPo8NXT9upU8/3X49P6XGWD9UYK0++ERUPyNjYj8s7Ek/Xh9aPz1tPD9HFIg+YTBmPwwxVD8dl2Q/vuBlPxT2Xz8i+lM/XgNePyXTXD+fI1I/SFRjP1jJVz8uL1o/jKFIPw3eKD7T3IY++rIcv6ocZD45XYM+UyYzPu3GXD7WGBy/F+QXvxrdF79RTx2//7JCP+NyUT8fj0E/H/ipPpHsrT7Kj1k/ED1NPwpSoz58zKM+smVJP31wqD4nw6M+B+hBPzznSz9ZVl4/6KlGP2H1Uz9JCU4/apNGP2HOTT/yPE4/qftOP3Q4gT7XIUE/2mswPj47Xz/olZ8+m3Acv6jWqD7sIj4/Z8FjPiolPz9rsTg/Lq5hP2jzRz8HuJk+FStZP3kqYT/YWWM/GJ2tPs+qVD+HN0I/px1UPw/ePD9rV1I+i0ZNP+Y7VD/CA0u+1QZUPynAUj8z/qo+RKNSP42KYT84J1Y/k/9mP8ubXT9PX10/LBuuPmy6Zj+5dyo+AedMP/kVrj7mHJM+uNZeP88pWj+Fzzw/1fpTPzndVj9kyVQ/fP9TP0N0qT6Cf08/5uUkPnmMG7+DYUA/iaySPqx/nD7Im00+UiiFPj/QMD7H/E8/SwyMPiqdF78fvkg+GU0bvxrxHb//1XE+qnsav+3efD6y4YQ+gotlPtEUF79j5YM+AIhcPoQfHr8qKjw/5wRXP40HOj/RrGo+8VuEvfSSST+mNzw/c3I5P6X8Qj9XOpg+iwA+P6+YRz8UTE0/wdJeP0D7WD9BzE0/iZpKP8+WOj//IVA/kp1EP8JZnT4Zu1M/3x5NP5+PVj/Cy1w/lhdNP8HLXT+LQ10/J1FKP1knTD9zVFM/0zJTP4zeqD4y5lM/hSxSPxs8VT9l1lc/QH9gP1IWYD+Q0FQ/rF1VPxoTNz5iYz4/PAhSPs4fgz6fuEg/C+9OPzTDE74scYM+MSijPsSTWj/oJF8/hGmAPjVjZD9Wll8/sU1ePy6mVD+FNFc/QMdUP+bxVD/1KGM/DJhXP3kuhj7FRV4+Q+ASv5OTgj7s7RC/525IPyoHiz5pjIY+lV6pPrRgPD+PMJE+2JobvxDSWj71sRu/BOR8PqZOaz525pc+3meMPvyBgD6aXoY+SNoev4dKHb/9JRO/PTwWv9MAdT4KN0c+drY9P8OmgD7AOWE+E+6SPtE0nT7+/nk+RFJnP2h5WD8RnWQ/nwZnP6sHYj8YlWM/YltgP9NcYz93sWY/gMJfP9PJSz8lklU/31xSP89oUz9EOVQ/qkxUP1I7VT/CkS0+srpWP90uZz8/J1Q/OG5hP1gHXj80M2Q/7m1jP4p1Zj9tnWM/+95NP0HIYT/lhVQ/AEBjPwFtrj6W0U0/rhVNP6NDTj/1I0I/K9ZkPz3kZj/WLFo/Y/JMPw==",
          "dtype": "f4"
         },
         "xaxis": "x",
         "y": {
          "bdata": "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",
          "dtype": "f4"
         },
         "yaxis": "y"
        },
        {
         "hovertemplate": "color=3<br>x=%{x}<br>y=%{y}<extra></extra>",
         "legendgroup": "3",
         "marker": {
          "color": "rgb(118, 78, 159)",
          "opacity": 0.7,
          "size": 4,
          "symbol": "circle"
         },
         "mode": "markers",
         "name": "3",
         "showlegend": true,
         "type": "scattergl",
         "x": {
          "bdata": "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",
          "dtype": "f4"
         },
         "xaxis": "x",
         "y": {
          "bdata": "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",
          "dtype": "f4"
         },
         "yaxis": "y"
        },
        {
         "hovertemplate": "color=8<br>x=%{x}<br>y=%{y}<extra></extra>",
         "legendgroup": "8",
         "marker": {
          "color": "rgb(237, 100, 90)",
          "opacity": 0.7,
          "size": 4,
          "symbol": "circle"
         },
         "mode": "markers",
         "name": "8",
         "showlegend": true,
         "type": "scattergl",
         "x": {
          "bdata": "GhKbPuNIMr9oh3U+4TqbPqe6ID7uaAQ+SSUcPqUdtT1MPzK/l9m+Pv9iVj0cTDq/ijKZPbfHoT4QiUU/gYOWPvbRYz7sHFq/igQjvrLUU7/QRPA8MbEvv/zMRr/MADA+31A3v6AIPL/A4wg+f6NFvzY2nb41EU+/NmFbv7LPhb49z7E8UvnDPU88sD5Lemo+VXmoPbs+yT4AlWC/DCtCP/HfhL4RUTe/U1Y4Pk8jW79KWlu/BBJ2Pc89LD2C3D29toPsPbD6aD8p3Y8+tPM6PquXNj5i/EW+PE6GPsvNa74nkHM+OwG3PtrayT57O48+HVpBPhWhRr8Ef0U99ygcPkNVSL/fRWE9EvCcPdkHUb/2RUm/NXAkv2504r66tCg+qy1Lv1r25D7bPmS/cE/FPiRCmr2mrES/oBYvvzjuN78FbMg+pY1Evx4NOz60NES/pbY5v1faTb+O0Ds+hJYtPqN0jb5rzIO+LBO0PpJHL7/f8AQ+Fm0VPkcEH794kMG8CpBdPu5t1z3Z4TO/kWXHPbVZkz3zjCU+24Fcv3f8grt5m06/mWKfPvslR79gZlo9KXZNv8c6ML+qUVS+kopKvxbOxz4Y8lW/0VqoPeLQUL+9kzK/ooS9PeE4er6Ec6s+9tgqPoQ/uL7rXSI+o9spPuTHwD4ouEu/JlVkP39BOD5+1Z0+ijNNvxrmML/DBkq/x/ODPcftVr/eoj2/vI6cPuo8SL9EwZs+uKdHPquPRr/Iije/GhN4PnrMnT6vSAy+lj8ov7tOoD6Xqj8+bVS7vhshQr+qjiG/NasOPpaJLb8KL1e/Bd1Uvw8lM7+9HCy+XGcuv87bUr934Fq/YhBMPlBTUL/9fi48wCxaPvPbSb/kG4W+v1rbPWR5Xz/gJ0y7FupMv2g6UT8vAlA/yOJov/HiO78LzmC/U25LPUMzg74CtlK/KS6WPvpEgT2KDNk+MAUxv/+5PL9in0i//YZGPjf8IL6t7Va/sM0fPp+aXz9sLTC9IZ88Pi5qiL46tSO/EOdgv8Mpjr5cKSc9JmXIPURHIT6R6YU9Wf9NP0SDRb8y1TE+GdAuv0TtrD4M+UM+iGPQPqLSSL/RpjO/UkmBPfkD+L4LqCG/OQdRv16/jT0HoUi/JDMAPVE9Rr9Eq0a/fFOKPAUdmT50Wp29xmJXv9LsS78bdrE7yLJVPliHIr/OEY2+2Gg/v0FoZD/P8Fe/BlHMPQujUj6jIAu+FN2HPs/vRb+n6Ua/X/9fPyThnT6uF+s9xINKvyW5Wb9JaAU9HDgrvqWJWj4iSy6/w0ZTvy/EmD6Hz7U+5MtBvzJ5CT7Dit888Ey+PU42Ez/3aVE+nJkWvBWMqT7ofxA+3TQuv/qNCD4JApG+1C2fvSieUb+V/1a/pRJHvvO5zj1zqDW/sn3APnV8Hj5ph209t0mpPlvsO78CLTa/FUqbPq5OV78Jckq+UMh6vVqfDLy7U5Q+lfXFPkNqh75Az5U+1s5Pv90vOz7UdJ8+p3quPfctWj0JqZQ+PUBKv1VkiL7jbjo+lB1Nv5H5Nb84oCq/MpFUPAEeWL9yn1s+CIHLPZ820D6cV02/JiO3PnarNL9SeUo+JWoRPu8hE75TL20+rQ6kPobCh7073US/iDUAPze0Ub91al8+gBY4PqcBSr/0yZg9QgGxPjkmir7uSSW/EjaTvbinmr2uuja/K4FQv9F6GT5hZIc9uM3JPiTdOb8pR20+/5GXPu9hsz46DEu/G4lUv/Quzz6YR7s+GbU8vw/vNL89Fze/Yd5Zv17LVb9G0ES/3h3DPq8gML8fk6U+OrxRP7u8RD3btDm/ZREdPkMvT7/Ml5c+zQlcP/XbnT6LCDa/x5oqPqLcXj9iwle/bejfPfoiMb/mdoq+b2RNv28KLL+VAwA+8i2PPtkuXj85BVi/udw5vkeB1T6HR0i/KHR2PsSPC78xhke/30VSP0Gp9DwJCJ8+E3nIPY+kdD40Uzq+HR1Hvz13O79pNkO/D+1jPvPiT79chcE9ilIrv1kaF78f7AM92v/uu6+CP7/nunA+nzJGv2NVgj61g9A+cT1wPhGrQ78hC6O+/Scwv2aG9j3+SWY+9deKPjtOL7/mkaQ+R7cEP8agRb/YRjM9qvQ2v56lQj4fKfa8LMk5v7Jxa77kJfC+ZmJMvwIcGb8ZaE4+JjevPg4JQT+4tUm/0DVHv/crFjy6CUW/E29Ov7FvtT7conK8RfRDPnjMlzqr45U+2bZjPrwcWr+Re4C+A6bGPU0Miz5Owr6+MQsaPUkv8TycXbU+n/kwv02gUr9wAJs+4apGv5DPVr/AD0m/pUcGv39TA78wuR8+BA/LPgInOT6viz+/1uRuPMj7xT4g0g+/np+0PlJvyD4Fr7s+mxFMvyGcYr80tEu/UnXGPlg7PL+wdRw+sBANvutLRr/8fce9yhHjPhl2Or+Vy5a+LoEyPmm+L7+RWMA95AWgPpbqZzxWGiq/BXIgv9H3Azu0PkM/5PVKv2xlOL+Xpa4+gitHv/LKNr+MtJg+I4c8v/vy4DzW1sY9zqZMv0xWT797/bw+Nb4HP3N/qz6zjTS/lt5Ov7VnW7/8PL8+4pLFviOwvD7Tfi+/FZC0PvnQOz7WlZw+H+MjPl8ZQT6i3Vs+N0AiPJeKST+daSs+psVcPmROtD5PonA+Dj6YPogzaz4mK8E+N56aPuyl+76UMYi+2hZuPL/7SD7udF0+fDGvPfQyXz/DwFA+7fodPtgavT2nBqa+aRlrPPIvmz7Ktlo8mMAfPn0bkT1NAFY+jLEoPFasJz5qBj4+T3SOvrD6DD7k6jQ+OSo+PsfUML4m59c9KNPlPBIel74vFz8+mf5HPhrx1jzTxxs+d3GpPmGNVD42LDq/juBCvx0vS7+Crja/E51Ev1keOb+ZAcc+vaxVP+4Nrjxrp6E8nCMePhD0S7/8vzC+u7VKv1hBDL3+Dj6/Rq2Ovo+eg74tC16/Fqgzv/T+mL1iJne+zt+wPULaNz5SYo0+dE14Pu7WSj64z8Y9LsSpPvseaz6HUlE/gGLGPgyNjD6+Zz8+8yiyPtIzQj5bGj49bG+UPvCgQD6X2nA+6CtRPropIL+bMTO/zWSuPuYQPL97h0S/l2lJvzmOTz54sKo+3jsyv4JB4T1dR02/2Wwwv1gxQL/55tg9q+iIvjEoOb9yscg+9VC/Ppk10z5oSDu/ka8/vypGL79xWDi/s+nXPaOvwT6H6F8+qX+6Pd7nuj3rH+m+eZw+PruYgj567K4+4UYMPoQ+eT61U5Y9DWVxPgOnaj4xaXk+VmUnPpstyD3dOFs/73CmPjza0D4dCEE+YQDqPRzbpD2JvFw+iYJpPso+pz4RKm8+whFhPpkSYT6bMIs+bJZ4PuIqcj5ionU+hS5TPj3Ajj6zDnc+4NabPgpUXj4nyRs+v5GZvjwyFDx8j1U+b1tWPqmbPL99KFM9GKEHPv4zyL12eM4+JeiVPfb8sT6aXno+C1tqPu7Jjj7thKI+0myePo6moT7RRlE/00mjPvHO7T2TdVE/9pYmPsZtKb+jbxu/A032PKsOOb9x8Ba/UH1Ev719sj66MZo9b/cUv1E/rz2euSc9anpQvsirDz7qbpY+LY+gPQL/lz50fmQ+RqqYPsmdYjwwJ6M++35VPatLfD6uTZw+KR3TPv+8QT4GbiQ+l+uGPsN7Tj73UZK+TRIOPoOcID5QVHA+wBjAvvYYVD4eUeg9rjwoPnKCSD5LNBw+QWNTPo+jmT7iXjs+cjaePl8Ogz6QqaE+CnSWPk4Qjz6WLpU+q8MKPjVjfT7f+GM+inodPnDsiz7/F5s+D1nfPRZBpD69ZsU++Qi2Pt+OgT6fJYM+OI6VPiQBKD6M7WM+uZWWPrTZQj6cJyc+/uwIPrkcQD5w9ik+xXdcPj9Yxz7UjUU/n/MCPxUm5j6pERw+kZDIPjt7yD53ock+fIE3v+UE7j59oQQ+dV2jPTvnxD2Anp29yEGnPtyu5z3XOTs+oN1JvyoKUr9JxVC/Bpxav5X1B7xK4kK/G/+4PvZNwT5fvsQ+cZypPqmHxz6Zkrc+/iqlPjg5wz6hMLE+6pY9v8fAvT74IcI+NWNEv+oOkT4QUbg+FXCKPl8lwD41ArU+Q2S2PgOijz7WHLU+WqViPgfEjz5Q1bU+sSCMPjB3h73EIZk+dktzPkkl7T0teaw+SlqLPh3orz7UVbQ+UYuOPn03oT5G8a8+M99iPiIoHj4ZQig++ICEvnBmdj4MhLM+neSfPUHjjD5YDmc+v/aVPqfoTz/PxVc+bDezPgSUuj6JOY0+qWCgPk83lj7jQZc++l2cPqE9oD4I4LM+5HdHPY6Lnr1yBdU9YpOzPqyJUD4oA8w+YrFRP97PjT7OaGw+QaKaPpsRVj8yMVQ/IDGZPqRVUT5M5Xk+xYw1v4rxyD7UYcI+DtLJPmprbj58ox+/2SiuPtFMNz/uN7o+6uQHPgyMaT6KrAa+OYgRPinjJT75Gwg+KHHOPcCMR7/Qx4A9n7XyPJcM97xHjgo+nPioPgqbqT7whqw+pLBRPi0Snj2qQ1C+YSFAPuCHSD74xzq/K8IxvoNZOD7IacI8W/opPtUBmT5tF4s+C+6fPjqdZj5Vb0Q+Z16dPpQJXD6ou1Y+PGuYPin6YT7nVYw++H2VPp8OJj63N3A+8E9kPri9jD5g94s+1hNrPuaUeT5pXoo+3y6HPoR7QT6CmKs+QGXdPZ9UsT1M9D2/nVBKv5EpPj5YFT4+++ovv4O5Or8Duxu/fIIavyR7N7+7dpI+ZXqhPpOWoj4yXYg+2oybPq9dnT6Gs5E+J5Ygv6KwWb/gRLc+mxYHv4eJTb/vkBi/hGjTPpDijL0GgNs9SrcBv7El1T4etpk+zgNavoEglz76r+c9WWApv4czDD5OJFW/WdXIPZ69TD6bOoa8vWmgvZY5bT4RbYs+4rFdPjoAmz5dSaA+HtyfPpeGED6X4nQ+TrpyPhBOUz8mBo8+1fx7PsCZUT/l/SQ+eUV3PrJ0lT5lD3E+D65NPuNBlz5Yk18+hbGiPj7tnz6WfaI+/rSXPgp7nz7lJE0/OR1dPs5WUT/5BIU+eewzPuD4KT7Hi46+M4BsPZjOHD5+JbY9VeRgPy/KjL5n4Pk9Dt1TP8RrIj40n6A+AJyTPpfDOj61l04/452mPQwfND6HlGY+OaZYPtCPyT4=",
          "dtype": "f4"
         },
         "xaxis": "x",
         "y": {
          "bdata": "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",
          "dtype": "f4"
         },
         "yaxis": "y"
        },
        {
         "line": {
          "color": "black"
         },
         "marker": {
          "size": 4
         },
         "mode": "lines",
         "name": "Poincaré Boundary",
         "showlegend": false,
         "type": "scatter",
         "x": {
          "bdata": "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",
          "dtype": "f8"
         },
         "y": {
          "bdata": "AAAAAAAAAABsmj0TbcmJP7d/dxvnyJk/CvyZ4QVWoz926q5Mz8apPy9xs3FGG7A/i4uG4n1Ssz+iPUGP7Ii2P3oLehZxvrk/I1pIIOryvD+xcc8vGxPAPzjc0kkarME/BOOJxGFEwz+z5cMN4dvEP0xbcJuHcsY/36tK7EQIyD/droWICJ3JP/fGdgLCMMs/wJRA92DDzD8ROX0P1VTOP0Ig6P8N5c8/racDxf250D8wFmq+xoDRP3HdsdrZRtI/8SLHDy8M0z8yOEtbvtDTP+7S58J/lNQ/yvGhVGtX1T8+aiwneRnWP04cOlqh2tY/wMjPFtya1z94hpWPIVrYP67TJwFqGNk/wT9osq3V2T9Gqs305JHaPyMUtCQITds/hf+rqQ8H3D9SW8n287/cPwz38Yqtd90/13sr8TQu3j+U5+jAguPeP8mGV56Pl98/L7VVHSol4D/3qjWq5H3gP94R3tvz1eA/is1VH1Qt4T8gW73oAYThP2uqc7P52eE/xqs6Ajgv4j9HkVtfuYPiP6zBylx61+I/n3tLlHcq4z/TJ5OnrXzjP5VYbEAZzuM/ZHXZELce5D8dETfTg27kP2jpXUp8veQ/9o3EQZ0L5T84rqCN41jlPzYMCAtMpeU/LRMRoNPw5T+lEPM7dzvmP6UOJtczheY/1E2CcwbO5j8eXl8c7BXnP7HUsubhXOc/Ep4u8eSi5z/+6l5k8ufnP/e2x3IHLOg/NecBWSFv6D/fANhdPbHoP1V1YtJY8ug/Z4MjEnEy6T9ZrCKDg3HpP6C7B5aNr+k/KWA1xozs6T8mVuOZfijqP10gOKJgY+o/xE9iezCd6j+UWLHM69XqP7TzrUiQDes/ewsyrRtE6z/yMoDDi3nrP3OmWmDeres/3dQZZBHh6z9ecMK6IhPsP/oFG1wQROw/3RrBS9hz7D+xzj2ZeKLsPx0CGmDvz+w/hADyxzr87D9krIgEWSftP18t2lVIUe0/UR8uCAd67T+bQSl0k6HtP/+l3v7rx+0/Ul7gGQ/t7T9QqE9D+xDuP/mW7AWvM+4/xzgl+ShV7j8pOiTBZ3XuP6ID3w5qlO4/A1MjoC6y7j8vT6Q/tM7uP9IVB8X56e4/sMLuFP4D7z/a7wchwBzvP4KuE+g+NO8/2vfxdXlK7z+olavjbl/vPxiCe1cec+8/cb7XBIeF7z9YoHksqJbvPz6VZRyBpu8/sVvyLxG17z9Ass/PV8LvP7N7DHJUzu8/TlgcmgbZ7z/xs9zYbeLvP9JImcyJ6u8/rRYQIVrx7z8/znSP3vbvP+Wwc94W++8/P+Qz4gL+7z/NOVl8ov/vP19qBZz1/+8/W8XYPfz+7z/MU/JrtvzvPzVv7z0k+e8/N8zq2EX07z8I+XpvG+7vP9BPsEGl5u8/Bl0SnePd7z/auZzc1tPvP+Nau2h/yO8/HFNGt9277z94C31L8q3vPyPvALa9nu8/w4zPlECO7z/eLDyTe3zvP7bd6Glvae8/4/S+3hxV7z/qBufEhD/vP0BVwPynKO8/8bLXc4cQ7z9j4N0kJPfuP5RenRd/3O4/LbrvYJnA7j/wTrIidKPuP+iDuosQhe4/2IDJ129l7j9pXX9Pk0TuP5rKTUh8Iu4/BDdqJCz/7T93br9SpNrtP5S13k7mtO0/6WHwoPON7T9H76PdzWXtP+mSH6Z2PO0/GE3vp+8R7T/9efOcOubsP2LiTktZuew/AE1UhU2L7D84kXMpGVzsP+orJiK+K+w/PlfbZT766z8cpuP2m8frPz0kXOPYk+s/pvsYRfde6z9eoI9B+SjrP1mDwAnh8eo/Zk0g2rC56j8xo4D6aoDqPxFz+L0RRuo/2s3LgqcK6j+DS1OyLs7pP6T84sCpkOk/4+mwLRtS6T9GIruChRLpP41ZrVTr0eg/fBfGQk+Q6D9lebv2s03oP+iGnyQcCug/ARvEiorF5z+tYp7xAYDnPynyqSuFOec/F3JLFRfy5j+U5bKUuqnmP5aKvZlyYOY/zFXXHUIW5j8RC9wjLMvlP+jz97czf+U/KDWI71sy5T87xfrop+TkP/4DrssaluQ/7/XPx7dG5D+/Iz0WgvbjP5ofX/h8peM/trEKuKtT4z9NrV2nEQHjP6BvnCCyreI/IwoPhpBZ4j98Gd5BsATiP7NK78UUr+E/14/Bi8FY4T/OBUkUugHhP5mMyucBquA/ohO3lZxR4D/fNg1pG/HfP8PcJcOxPd8/8yPkgQOJ3j8E5KD6F9PdP9GOlY/2G90/M3iPr6Zj3D85m6LVL6rbP4vf24iZ79o/oOLyW+sz2j/HR/vsLHfZP9+RFeVludg/hYof+J361z+HOWTk3DrXPytwS3IqetY/EOsIdI641T+ZDkvFEPbUP8lA6Uq5MtQ/teOR8o9u0z9w9HeynKnSPzVRAInn49E/rapufHgd0T8WI5KaV1bQP5c+4/AZHc8/qJnvY0GMzT8gwD3TNfrLPxkdOJAHZ8o/z5AV+MbSyD84aS9zhD3HP0jmVnRQp8U/+VEqeDsQxD+KsmkEVnjCPz8dS6ew38A/vmOd7beMvj++iSQg0Vi7P/9/SS3OI7g/sn6yZ9DttD8h5jMs+baxP5Uw68DT/qw/Xusv44eOpj9xG7GlUR2gP4c72vDnVpM/smJwkY7JeT+YX3CRjsl5v0A72vDnVpO/DhuxpVEdoL/66i/jh46mvzIw68DT/qy/EOYzLPm2sb+BfrJn0O20v81/SS3OI7i/rIkkINFYu7+NY53tt4y+vycdS6ew38C/crJpBFZ4wr/xUSp4OxDEvy/mVnRQp8W/IGkvc4Q9x7/GkBX4xtLIvwAdOJAHZ8q/CMA90zX6y7+Qme9jQYzNv48+4/AZHc+/CiOSmldW0L+hqm58eB3RvzFRAInn49G/ZPR3spyp0r+q45Hyj27Tv71A6Uq5MtS/lQ5LxRD21L8F6wh0jrjVvx9wS3Iqeta/gzlk5Nw61795ih/4nfrXv9ORFeVludi/vEf77Cx32b+c4vJb6zPav3/f24iZ79q/Lpui1S+q278veI+vpmPcv8aOlY/2G92/+eOg+hfT3b/oI+SBA4nev7/cJcOxPd+/1DYNaRvx37+dE7eVnFHgv5eMyucBquC/yQVJFLoB4b/Sj8GLwVjhv65K78UUr+G/ehneQbAE4r8eCg+GkFniv5tvnCCyreK/S61dpxEB47+xsQq4q1Pjv5UfX/h8peO/uiM9FoL247/t9c/Ht0bkv/kDrssaluS/NsX66Kfk5L8nNYjvWzLlv+Pz97czf+W/DAvcIyzL5b/IVdcdQhbmv5SKvZlyYOa/j+WylLqp5r8TcksVF/LmvyfyqSuFOee/qWKe8QGA57/9GsSKisXnv+OGnyQcCui/YHm79rNN6L94F8ZCT5Dov4xZrVTr0ei/QyK7goUS6b/f6bAtG1Lpv6P84sCpkOm/f0tTsi7O6b/ZzcuCpwrqvwxz+L0RRuq/LqOA+mqA6r9lTSDasLnqv1ODwAnh8eq/W6CPQfko67+l+xhF917rvzkkXOPYk+u/Gabj9pvH6789V9tlPvrrv+crJiK+K+y/NZFzKRlc7L//TFSFTYvsv1/iTktZuey//HnznDrm7L8UTe+n7xHtv+eSH6Z2PO2/Ru+j3c1l7b/mYfCg843tv5K13k7mtO2/dm6/UqTa7b8BN2okLP/tv5jKTUh8Iu6/aV1/T5NE7r/XgMnXb2Xuv+eDuosQhe6/706yInSj7r8ruu9gmcDuv5NenRd/3O6/YeDdJCT37r/vstdzhxDvvz9VwPynKO+/6AbnxIQ/77/h9L7eHFXvv7bd6Glvae+/3Sw8k3t877/DjM+UQI7vvyPvALa9nu+/dwt9S/Kt778cU0a33bvvv+Jau2h/yO+/2bmc3NbT778FXRKd493vv9BPsEGl5u+/CPl6bxvu7783zOrYRfTvvzVv7z0k+e+/zFPya7b8779bxdg9/P7vv19qBZz1/++/zTlZfKL/778/5DPiAv7vv+Wwc94W+++/QM50j97277+tFhAhWvHvv9JImcyJ6u+/8bPc2G3i779PWByaBtnvv7N7DHJUzu+/QbLPz1fC77+yW/IvEbXvvz+VZRyBpu+/WKB5LKiW779yvtcEh4XvvxmCe1cec++/qZWr425f77/b9/F1eUrvv4OuE+g+NO+/2u8HIcAc77+ywu4U/gPvv9MVB8X56e6/MU+kP7TO7r8FUyOgLrLuv6ID3w5qlO6/KzokwWd17r/JOCX5KFXuv/qW7AWvM+6/U6hPQ/sQ7r9UXuAZD+3tvwCm3v7rx+2/nUEpdJOh7b9THy4IB3rtv2At2lVIUe2/Z6yIBFkn7b+GAPLHOvzsvyECGmDvz+y/tM49mXii7L/eGsFL2HPsv/4FG1wQROy/YXDCuiIT7L/e1BlkEeHrv3emWmDereu/9TKAw4t56798CzKtG0Trv7fzrUiQDeu/l1ixzOvV6r/ET2J7MJ3qv2AgOKJgY+q/KFbjmX4o6r8tYDXGjOzpv6S7B5aNr+m/W6wig4Nx6b9sgyMScTLpv1l1YtJY8ui/4QDYXT2x6L865wFZIW/ov/q2x3IHLOi/AOteZPLn578Xni7x5KLnv7TUsubhXOe/Hl5fHOwV57/YTYJzBs7mv6cOJtczhea/qhDzO3c75r8yExGg0/DlvzkMCAtMpeW/Pq6gjeNY5b/6jcRBnQvlv2npXUp8veS/IhE304Nu5L9nddkQtx7kv5dYbEAZzuO/2CeTp61847+ie0uUdyrjv63Bylx61+K/TJFbX7mD4r/JqzoCOC/iv3Kqc7P52eG/Jlu96AGE4b+NzVUfVC3hv+UR3tvz1eC//Ko1quR94L8xtVUdKiXgv9aGV56Pl9+/nOfowILj3r/aeyvxNC7evxj38Yqtd92/WVvJ9vO/3L+H/6upDwfcvy4UtCQITdu/S6rN9OSR2r/RP2iyrdXZv7nTJwFqGNm/fYaVjyFa2L/PyM8W3JrXv1gcOlqh2ta/QmosJ3kZ1r/Y8aFUa1fVv/fS58J/lNS/NjhLW77Q07/9IscPLwzTv3ndsdrZRtK/MhZqvsaA0b+5pwPF/bnQv04g6P8N5c+/Mjl9D9VUzr/WlED3YMPMvwHHdgLCMMu//K6FiAidyb/zq0rsRAjIv1RbcJuHcsa/0eXDDeHbxL8V44nEYUTDvz/c0kkarMG/y3HPLxsTwL9DWkgg6vK8v4ILehZxvrm/1D1Bj+yItr+mi4bifVKzv3Nxs3FGG7C/0OquTM/Gqb82/JnhBVajv7SAdxvnyJm/sZs9E23Jib8HXBQzJqaxvA==",
          "dtype": "f8"
         }
        }
       ],
       "layout": {
        "height": 700,
        "legend": {
         "bgcolor": "rgba(255,255,255,0.5)",
         "bordercolor": "rgba(0,0,0,0)",
         "font": {
          "size": 18
         },
         "title": {
          "text": ""
         },
         "tracegroupgap": 0,
         "x": 0.02,
         "y": 0.98
        },
        "margin": {
         "t": 40
        },
        "showlegend": false,
        "template": {
         "data": {
          "bar": [
           {
            "error_x": {
             "color": "#2a3f5f"
            },
            "error_y": {
             "color": "#2a3f5f"
            },
            "marker": {
             "line": {
              "color": "#E5ECF6",
              "width": 0.5
             },
             "pattern": {
              "fillmode": "overlay",
              "size": 10,
              "solidity": 0.2
             }
            },
            "type": "bar"
           }
          ],
          "barpolar": [
           {
            "marker": {
             "line": {
              "color": "#E5ECF6",
              "width": 0.5
             },
             "pattern": {
              "fillmode": "overlay",
              "size": 10,
              "solidity": 0.2
             }
            },
            "type": "barpolar"
           }
          ],
          "carpet": [
           {
            "aaxis": {
             "endlinecolor": "#2a3f5f",
             "gridcolor": "white",
             "linecolor": "white",
             "minorgridcolor": "white",
             "startlinecolor": "#2a3f5f"
            },
            "baxis": {
             "endlinecolor": "#2a3f5f",
             "gridcolor": "white",
             "linecolor": "white",
             "minorgridcolor": "white",
             "startlinecolor": "#2a3f5f"
            },
            "type": "carpet"
           }
          ],
          "choropleth": [
           {
            "colorbar": {
             "outlinewidth": 0,
             "ticks": ""
            },
            "type": "choropleth"
           }
          ],
          "contour": [
           {
            "colorbar": {
             "outlinewidth": 0,
             "ticks": ""
            },
            "colorscale": [
             [
              0,
              "#0d0887"
             ],
             [
              0.1111111111111111,
              "#46039f"
             ],
             [
              0.2222222222222222,
              "#7201a8"
             ],
             [
              0.3333333333333333,
              "#9c179e"
             ],
             [
              0.4444444444444444,
              "#bd3786"
             ],
             [
              0.5555555555555556,
              "#d8576b"
             ],
             [
              0.6666666666666666,
              "#ed7953"
             ],
             [
              0.7777777777777778,
              "#fb9f3a"
             ],
             [
              0.8888888888888888,
              "#fdca26"
             ],
             [
              1,
              "#f0f921"
             ]
            ],
            "type": "contour"
           }
          ],
          "contourcarpet": [
           {
            "colorbar": {
             "outlinewidth": 0,
             "ticks": ""
            },
            "type": "contourcarpet"
           }
          ],
          "heatmap": [
           {
            "colorbar": {
             "outlinewidth": 0,
             "ticks": ""
            },
            "colorscale": [
             [
              0,
              "#0d0887"
             ],
             [
              0.1111111111111111,
              "#46039f"
             ],
             [
              0.2222222222222222,
              "#7201a8"
             ],
             [
              0.3333333333333333,
              "#9c179e"
             ],
             [
              0.4444444444444444,
              "#bd3786"
             ],
             [
              0.5555555555555556,
              "#d8576b"
             ],
             [
              0.6666666666666666,
              "#ed7953"
             ],
             [
              0.7777777777777778,
              "#fb9f3a"
             ],
             [
              0.8888888888888888,
              "#fdca26"
             ],
             [
              1,
              "#f0f921"
             ]
            ],
            "type": "heatmap"
           }
          ],
          "histogram": [
           {
            "marker": {
             "pattern": {
              "fillmode": "overlay",
              "size": 10,
              "solidity": 0.2
             }
            },
            "type": "histogram"
           }
          ],
          "histogram2d": [
           {
            "colorbar": {
             "outlinewidth": 0,
             "ticks": ""
            },
            "colorscale": [
             [
              0,
              "#0d0887"
             ],
             [
              0.1111111111111111,
              "#46039f"
             ],
             [
              0.2222222222222222,
              "#7201a8"
             ],
             [
              0.3333333333333333,
              "#9c179e"
             ],
             [
              0.4444444444444444,
              "#bd3786"
             ],
             [
              0.5555555555555556,
              "#d8576b"
             ],
             [
              0.6666666666666666,
              "#ed7953"
             ],
             [
              0.7777777777777778,
              "#fb9f3a"
             ],
             [
              0.8888888888888888,
              "#fdca26"
             ],
             [
              1,
              "#f0f921"
             ]
            ],
            "type": "histogram2d"
           }
          ],
          "histogram2dcontour": [
           {
            "colorbar": {
             "outlinewidth": 0,
             "ticks": ""
            },
            "colorscale": [
             [
              0,
              "#0d0887"
             ],
             [
              0.1111111111111111,
              "#46039f"
             ],
             [
              0.2222222222222222,
              "#7201a8"
             ],
             [
              0.3333333333333333,
              "#9c179e"
             ],
             [
              0.4444444444444444,
              "#bd3786"
             ],
             [
              0.5555555555555556,
              "#d8576b"
             ],
             [
              0.6666666666666666,
              "#ed7953"
             ],
             [
              0.7777777777777778,
              "#fb9f3a"
             ],
             [
              0.8888888888888888,
              "#fdca26"
             ],
             [
              1,
              "#f0f921"
             ]
            ],
            "type": "histogram2dcontour"
           }
          ],
          "mesh3d": [
           {
            "colorbar": {
             "outlinewidth": 0,
             "ticks": ""
            },
            "type": "mesh3d"
           }
          ],
          "parcoords": [
           {
            "line": {
             "colorbar": {
              "outlinewidth": 0,
              "ticks": ""
             }
            },
            "type": "parcoords"
           }
          ],
          "pie": [
           {
            "automargin": true,
            "type": "pie"
           }
          ],
          "scatter": [
           {
            "fillpattern": {
             "fillmode": "overlay",
             "size": 10,
             "solidity": 0.2
            },
            "type": "scatter"
           }
          ],
          "scatter3d": [
           {
            "line": {
             "colorbar": {
              "outlinewidth": 0,
              "ticks": ""
             }
            },
            "marker": {
             "colorbar": {
              "outlinewidth": 0,
              "ticks": ""
             }
            },
            "type": "scatter3d"
           }
          ],
          "scattercarpet": [
           {
            "marker": {
             "colorbar": {
              "outlinewidth": 0,
              "ticks": ""
             }
            },
            "type": "scattercarpet"
           }
          ],
          "scattergeo": [
           {
            "marker": {
             "colorbar": {
              "outlinewidth": 0,
              "ticks": ""
             }
            },
            "type": "scattergeo"
           }
          ],
          "scattergl": [
           {
            "marker": {
             "colorbar": {
              "outlinewidth": 0,
              "ticks": ""
             }
            },
            "type": "scattergl"
           }
          ],
          "scattermap": [
           {
            "marker": {
             "colorbar": {
              "outlinewidth": 0,
              "ticks": ""
             }
            },
            "type": "scattermap"
           }
          ],
          "scattermapbox": [
           {
            "marker": {
             "colorbar": {
              "outlinewidth": 0,
              "ticks": ""
             }
            },
            "type": "scattermapbox"
           }
          ],
          "scatterpolar": [
           {
            "marker": {
             "colorbar": {
              "outlinewidth": 0,
              "ticks": ""
             }
            },
            "type": "scatterpolar"
           }
          ],
          "scatterpolargl": [
           {
            "marker": {
             "colorbar": {
              "outlinewidth": 0,
              "ticks": ""
             }
            },
            "type": "scatterpolargl"
           }
          ],
          "scatterternary": [
           {
            "marker": {
             "colorbar": {
              "outlinewidth": 0,
              "ticks": ""
             }
            },
            "type": "scatterternary"
           }
          ],
          "surface": [
           {
            "colorbar": {
             "outlinewidth": 0,
             "ticks": ""
            },
            "colorscale": [
             [
              0,
              "#0d0887"
             ],
             [
              0.1111111111111111,
              "#46039f"
             ],
             [
              0.2222222222222222,
              "#7201a8"
             ],
             [
              0.3333333333333333,
              "#9c179e"
             ],
             [
              0.4444444444444444,
              "#bd3786"
             ],
             [
              0.5555555555555556,
              "#d8576b"
             ],
             [
              0.6666666666666666,
              "#ed7953"
             ],
             [
              0.7777777777777778,
              "#fb9f3a"
             ],
             [
              0.8888888888888888,
              "#fdca26"
             ],
             [
              1,
              "#f0f921"
             ]
            ],
            "type": "surface"
           }
          ],
          "table": [
           {
            "cells": {
             "fill": {
              "color": "#EBF0F8"
             },
             "line": {
              "color": "white"
             }
            },
            "header": {
             "fill": {
              "color": "#C8D4E3"
             },
             "line": {
              "color": "white"
             }
            },
            "type": "table"
           }
          ]
         },
         "layout": {
          "annotationdefaults": {
           "arrowcolor": "#2a3f5f",
           "arrowhead": 0,
           "arrowwidth": 1
          },
          "autotypenumbers": "strict",
          "coloraxis": {
           "colorbar": {
            "outlinewidth": 0,
            "ticks": ""
           }
          },
          "colorscale": {
           "diverging": [
            [
             0,
             "#8e0152"
            ],
            [
             0.1,
             "#c51b7d"
            ],
            [
             0.2,
             "#de77ae"
            ],
            [
             0.3,
             "#f1b6da"
            ],
            [
             0.4,
             "#fde0ef"
            ],
            [
             0.5,
             "#f7f7f7"
            ],
            [
             0.6,
             "#e6f5d0"
            ],
            [
             0.7,
             "#b8e186"
            ],
            [
             0.8,
             "#7fbc41"
            ],
            [
             0.9,
             "#4d9221"
            ],
            [
             1,
             "#276419"
            ]
           ],
           "sequential": [
            [
             0,
             "#0d0887"
            ],
            [
             0.1111111111111111,
             "#46039f"
            ],
            [
             0.2222222222222222,
             "#7201a8"
            ],
            [
             0.3333333333333333,
             "#9c179e"
            ],
            [
             0.4444444444444444,
             "#bd3786"
            ],
            [
             0.5555555555555556,
             "#d8576b"
            ],
            [
             0.6666666666666666,
             "#ed7953"
            ],
            [
             0.7777777777777778,
             "#fb9f3a"
            ],
            [
             0.8888888888888888,
             "#fdca26"
            ],
            [
             1,
             "#f0f921"
            ]
           ],
           "sequentialminus": [
            [
             0,
             "#0d0887"
            ],
            [
             0.1111111111111111,
             "#46039f"
            ],
            [
             0.2222222222222222,
             "#7201a8"
            ],
            [
             0.3333333333333333,
             "#9c179e"
            ],
            [
             0.4444444444444444,
             "#bd3786"
            ],
            [
             0.5555555555555556,
             "#d8576b"
            ],
            [
             0.6666666666666666,
             "#ed7953"
            ],
            [
             0.7777777777777778,
             "#fb9f3a"
            ],
            [
             0.8888888888888888,
             "#fdca26"
            ],
            [
             1,
             "#f0f921"
            ]
           ]
          },
          "colorway": [
           "#636efa",
           "#EF553B",
           "#00cc96",
           "#ab63fa",
           "#FFA15A",
           "#19d3f3",
           "#FF6692",
           "#B6E880",
           "#FF97FF",
           "#FECB52"
          ],
          "font": {
           "color": "#2a3f5f"
          },
          "geo": {
           "bgcolor": "white",
           "lakecolor": "white",
           "landcolor": "#E5ECF6",
           "showlakes": true,
           "showland": true,
           "subunitcolor": "white"
          },
          "hoverlabel": {
           "align": "left"
          },
          "hovermode": "closest",
          "mapbox": {
           "style": "light"
          },
          "paper_bgcolor": "white",
          "plot_bgcolor": "#E5ECF6",
          "polar": {
           "angularaxis": {
            "gridcolor": "white",
            "linecolor": "white",
            "ticks": ""
           },
           "bgcolor": "#E5ECF6",
           "radialaxis": {
            "gridcolor": "white",
            "linecolor": "white",
            "ticks": ""
           }
          },
          "scene": {
           "xaxis": {
            "backgroundcolor": "#E5ECF6",
            "gridcolor": "white",
            "gridwidth": 2,
            "linecolor": "white",
            "showbackground": true,
            "ticks": "",
            "zerolinecolor": "white"
           },
           "yaxis": {
            "backgroundcolor": "#E5ECF6",
            "gridcolor": "white",
            "gridwidth": 2,
            "linecolor": "white",
            "showbackground": true,
            "ticks": "",
            "zerolinecolor": "white"
           },
           "zaxis": {
            "backgroundcolor": "#E5ECF6",
            "gridcolor": "white",
            "gridwidth": 2,
            "linecolor": "white",
            "showbackground": true,
            "ticks": "",
            "zerolinecolor": "white"
           }
          },
          "shapedefaults": {
           "line": {
            "color": "#2a3f5f"
           }
          },
          "ternary": {
           "aaxis": {
            "gridcolor": "white",
            "linecolor": "white",
            "ticks": ""
           },
           "baxis": {
            "gridcolor": "white",
            "linecolor": "white",
            "ticks": ""
           },
           "bgcolor": "#E5ECF6",
           "caxis": {
            "gridcolor": "white",
            "linecolor": "white",
            "ticks": ""
           }
          },
          "title": {
           "x": 0.05
          },
          "xaxis": {
           "automargin": true,
           "gridcolor": "white",
           "linecolor": "white",
           "ticks": "",
           "title": {
            "standoff": 15
           },
           "zerolinecolor": "white",
           "zerolinewidth": 2
          },
          "yaxis": {
           "automargin": true,
           "gridcolor": "white",
           "linecolor": "white",
           "ticks": "",
           "title": {
            "standoff": 15
           },
           "zerolinecolor": "white",
           "zerolinewidth": 2
          }
         }
        },
        "title": {
         "font": {
          "size": 20
         },
         "text": "UMAP Embedding (Lorentz Latent Space)",
         "x": 0.5,
         "xanchor": "center",
         "y": 0.98,
         "yanchor": "top"
        },
        "width": 700,
        "xaxis": {
         "anchor": "y",
         "domain": [
          0,
          1
         ],
         "scaleanchor": "y",
         "showgrid": true,
         "showticklabels": false,
         "ticks": "",
         "title": {
          "font": {
           "size": 20
          },
          "text": "z₀"
         },
         "zeroline": false
        },
        "yaxis": {
         "anchor": "x",
         "domain": [
          0,
          1
         ],
         "scaleanchor": "x",
         "showgrid": true,
         "showticklabels": false,
         "ticks": "",
         "title": {
          "font": {
           "size": 20
          },
          "text": "z₁"
         },
         "zeroline": false
        }
       }
      }
     },
     "metadata": {},
     "output_type": "display_data"
    }
   ],
   "source": [
    "get_UMAP(normalised_lorentz_pairwise_distance, labels=labels, space=\"L\", k=-1)"
   ]
  },
  {
   "cell_type": "markdown",
   "id": "1b8f0ab6",
   "metadata": {},
   "source": [
    "## Poincaré UMAP"
   ]
  },
  {
   "cell_type": "code",
   "execution_count": null,
   "id": "40d13404",
   "metadata": {},
   "outputs": [
    {
     "name": "stderr",
     "output_type": "stream",
     "text": [
      "/opt/anaconda3/envs/hcnn/lib/python3.8/site-packages/umap/umap_.py:1780: UserWarning:\n",
      "\n",
      "using precomputed metric; inverse_transform will be unavailable\n",
      "\n"
     ]
    },
    {
     "data": {
      "application/vnd.plotly.v1+json": {
       "config": {
        "plotlyServerURL": "https://plot.ly"
       },
       "data": [
        {
         "hovertemplate": "color=0<br>x=%{x}<br>y=%{y}<extra></extra>",
         "legendgroup": "0",
         "marker": {
          "color": "rgb(229, 134, 6)",
          "opacity": 0.7,
          "size": 4,
          "symbol": "circle"
         },
         "mode": "markers",
         "name": "0",
         "showlegend": true,
         "type": "scattergl",
         "x": {
          "bdata": "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",
          "dtype": "f4"
         },
         "xaxis": "x",
         "y": {
          "bdata": "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",
          "dtype": "f4"
         },
         "yaxis": "y"
        },
        {
         "line": {
          "color": "black"
         },
         "marker": {
          "size": 4
         },
         "mode": "lines",
         "name": "Poincaré Boundary",
         "showlegend": false,
         "type": "scatter",
         "x": {
          "bdata": "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",
          "dtype": "f8"
         },
         "y": {
          "bdata": "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",
          "dtype": "f8"
         }
        }
       ],
       "layout": {
        "height": 700,
        "legend": {
         "bgcolor": "rgba(255,255,255,0.5)",
         "bordercolor": "rgba(0,0,0,0)",
         "font": {
          "size": 18
         },
         "title": {
          "text": ""
         },
         "tracegroupgap": 0,
         "x": 0.02,
         "y": 0.98
        },
        "margin": {
         "t": 40
        },
        "showlegend": false,
        "template": {
         "data": {
          "bar": [
           {
            "error_x": {
             "color": "#2a3f5f"
            },
            "error_y": {
             "color": "#2a3f5f"
            },
            "marker": {
             "line": {
              "color": "#E5ECF6",
              "width": 0.5
             },
             "pattern": {
              "fillmode": "overlay",
              "size": 10,
              "solidity": 0.2
             }
            },
            "type": "bar"
           }
          ],
          "barpolar": [
           {
            "marker": {
             "line": {
              "color": "#E5ECF6",
              "width": 0.5
             },
             "pattern": {
              "fillmode": "overlay",
              "size": 10,
              "solidity": 0.2
             }
            },
            "type": "barpolar"
           }
          ],
          "carpet": [
           {
            "aaxis": {
             "endlinecolor": "#2a3f5f",
             "gridcolor": "white",
             "linecolor": "white",
             "minorgridcolor": "white",
             "startlinecolor": "#2a3f5f"
            },
            "baxis": {
             "endlinecolor": "#2a3f5f",
             "gridcolor": "white",
             "linecolor": "white",
             "minorgridcolor": "white",
             "startlinecolor": "#2a3f5f"
            },
            "type": "carpet"
           }
          ],
          "choropleth": [
           {
            "colorbar": {
             "outlinewidth": 0,
             "ticks": ""
            },
            "type": "choropleth"
           }
          ],
          "contour": [
           {
            "colorbar": {
             "outlinewidth": 0,
             "ticks": ""
            },
            "colorscale": [
             [
              0,
              "#0d0887"
             ],
             [
              0.1111111111111111,
              "#46039f"
             ],
             [
              0.2222222222222222,
              "#7201a8"
             ],
             [
              0.3333333333333333,
              "#9c179e"
             ],
             [
              0.4444444444444444,
              "#bd3786"
             ],
             [
              0.5555555555555556,
              "#d8576b"
             ],
             [
              0.6666666666666666,
              "#ed7953"
             ],
             [
              0.7777777777777778,
              "#fb9f3a"
             ],
             [
              0.8888888888888888,
              "#fdca26"
             ],
             [
              1,
              "#f0f921"
             ]
            ],
            "type": "contour"
           }
          ],
          "contourcarpet": [
           {
            "colorbar": {
             "outlinewidth": 0,
             "ticks": ""
            },
            "type": "contourcarpet"
           }
          ],
          "heatmap": [
           {
            "colorbar": {
             "outlinewidth": 0,
             "ticks": ""
            },
            "colorscale": [
             [
              0,
              "#0d0887"
             ],
             [
              0.1111111111111111,
              "#46039f"
             ],
             [
              0.2222222222222222,
              "#7201a8"
             ],
             [
              0.3333333333333333,
              "#9c179e"
             ],
             [
              0.4444444444444444,
              "#bd3786"
             ],
             [
              0.5555555555555556,
              "#d8576b"
             ],
             [
              0.6666666666666666,
              "#ed7953"
             ],
             [
              0.7777777777777778,
              "#fb9f3a"
             ],
             [
              0.8888888888888888,
              "#fdca26"
             ],
             [
              1,
              "#f0f921"
             ]
            ],
            "type": "heatmap"
           }
          ],
          "histogram": [
           {
            "marker": {
             "pattern": {
              "fillmode": "overlay",
              "size": 10,
              "solidity": 0.2
             }
            },
            "type": "histogram"
           }
          ],
          "histogram2d": [
           {
            "colorbar": {
             "outlinewidth": 0,
             "ticks": ""
            },
            "colorscale": [
             [
              0,
              "#0d0887"
             ],
             [
              0.1111111111111111,
              "#46039f"
             ],
             [
              0.2222222222222222,
              "#7201a8"
             ],
             [
              0.3333333333333333,
              "#9c179e"
             ],
             [
              0.4444444444444444,
              "#bd3786"
             ],
             [
              0.5555555555555556,
              "#d8576b"
             ],
             [
              0.6666666666666666,
              "#ed7953"
             ],
             [
              0.7777777777777778,
              "#fb9f3a"
             ],
             [
              0.8888888888888888,
              "#fdca26"
             ],
             [
              1,
              "#f0f921"
             ]
            ],
            "type": "histogram2d"
           }
          ],
          "histogram2dcontour": [
           {
            "colorbar": {
             "outlinewidth": 0,
             "ticks": ""
            },
            "colorscale": [
             [
              0,
              "#0d0887"
             ],
             [
              0.1111111111111111,
              "#46039f"
             ],
             [
              0.2222222222222222,
              "#7201a8"
             ],
             [
              0.3333333333333333,
              "#9c179e"
             ],
             [
              0.4444444444444444,
              "#bd3786"
             ],
             [
              0.5555555555555556,
              "#d8576b"
             ],
             [
              0.6666666666666666,
              "#ed7953"
             ],
             [
              0.7777777777777778,
              "#fb9f3a"
             ],
             [
              0.8888888888888888,
              "#fdca26"
             ],
             [
              1,
              "#f0f921"
             ]
            ],
            "type": "histogram2dcontour"
           }
          ],
          "mesh3d": [
           {
            "colorbar": {
             "outlinewidth": 0,
             "ticks": ""
            },
            "type": "mesh3d"
           }
          ],
          "parcoords": [
           {
            "line": {
             "colorbar": {
              "outlinewidth": 0,
              "ticks": ""
             }
            },
            "type": "parcoords"
           }
          ],
          "pie": [
           {
            "automargin": true,
            "type": "pie"
           }
          ],
          "scatter": [
           {
            "fillpattern": {
             "fillmode": "overlay",
             "size": 10,
             "solidity": 0.2
            },
            "type": "scatter"
           }
          ],
          "scatter3d": [
           {
            "line": {
             "colorbar": {
              "outlinewidth": 0,
              "ticks": ""
             }
            },
            "marker": {
             "colorbar": {
              "outlinewidth": 0,
              "ticks": ""
             }
            },
            "type": "scatter3d"
           }
          ],
          "scattercarpet": [
           {
            "marker": {
             "colorbar": {
              "outlinewidth": 0,
              "ticks": ""
             }
            },
            "type": "scattercarpet"
           }
          ],
          "scattergeo": [
           {
            "marker": {
             "colorbar": {
              "outlinewidth": 0,
              "ticks": ""
             }
            },
            "type": "scattergeo"
           }
          ],
          "scattergl": [
           {
            "marker": {
             "colorbar": {
              "outlinewidth": 0,
              "ticks": ""
             }
            },
            "type": "scattergl"
           }
          ],
          "scattermap": [
           {
            "marker": {
             "colorbar": {
              "outlinewidth": 0,
              "ticks": ""
             }
            },
            "type": "scattermap"
           }
          ],
          "scattermapbox": [
           {
            "marker": {
             "colorbar": {
              "outlinewidth": 0,
              "ticks": ""
             }
            },
            "type": "scattermapbox"
           }
          ],
          "scatterpolar": [
           {
            "marker": {
             "colorbar": {
              "outlinewidth": 0,
              "ticks": ""
             }
            },
            "type": "scatterpolar"
           }
          ],
          "scatterpolargl": [
           {
            "marker": {
             "colorbar": {
              "outlinewidth": 0,
              "ticks": ""
             }
            },
            "type": "scatterpolargl"
           }
          ],
          "scatterternary": [
           {
            "marker": {
             "colorbar": {
              "outlinewidth": 0,
              "ticks": ""
             }
            },
            "type": "scatterternary"
           }
          ],
          "surface": [
           {
            "colorbar": {
             "outlinewidth": 0,
             "ticks": ""
            },
            "colorscale": [
             [
              0,
              "#0d0887"
             ],
             [
              0.1111111111111111,
              "#46039f"
             ],
             [
              0.2222222222222222,
              "#7201a8"
             ],
             [
              0.3333333333333333,
              "#9c179e"
             ],
             [
              0.4444444444444444,
              "#bd3786"
             ],
             [
              0.5555555555555556,
              "#d8576b"
             ],
             [
              0.6666666666666666,
              "#ed7953"
             ],
             [
              0.7777777777777778,
              "#fb9f3a"
             ],
             [
              0.8888888888888888,
              "#fdca26"
             ],
             [
              1,
              "#f0f921"
             ]
            ],
            "type": "surface"
           }
          ],
          "table": [
           {
            "cells": {
             "fill": {
              "color": "#EBF0F8"
             },
             "line": {
              "color": "white"
             }
            },
            "header": {
             "fill": {
              "color": "#C8D4E3"
             },
             "line": {
              "color": "white"
             }
            },
            "type": "table"
           }
          ]
         },
         "layout": {
          "annotationdefaults": {
           "arrowcolor": "#2a3f5f",
           "arrowhead": 0,
           "arrowwidth": 1
          },
          "autotypenumbers": "strict",
          "coloraxis": {
           "colorbar": {
            "outlinewidth": 0,
            "ticks": ""
           }
          },
          "colorscale": {
           "diverging": [
            [
             0,
             "#8e0152"
            ],
            [
             0.1,
             "#c51b7d"
            ],
            [
             0.2,
             "#de77ae"
            ],
            [
             0.3,
             "#f1b6da"
            ],
            [
             0.4,
             "#fde0ef"
            ],
            [
             0.5,
             "#f7f7f7"
            ],
            [
             0.6,
             "#e6f5d0"
            ],
            [
             0.7,
             "#b8e186"
            ],
            [
             0.8,
             "#7fbc41"
            ],
            [
             0.9,
             "#4d9221"
            ],
            [
             1,
             "#276419"
            ]
           ],
           "sequential": [
            [
             0,
             "#0d0887"
            ],
            [
             0.1111111111111111,
             "#46039f"
            ],
            [
             0.2222222222222222,
             "#7201a8"
            ],
            [
             0.3333333333333333,
             "#9c179e"
            ],
            [
             0.4444444444444444,
             "#bd3786"
            ],
            [
             0.5555555555555556,
             "#d8576b"
            ],
            [
             0.6666666666666666,
             "#ed7953"
            ],
            [
             0.7777777777777778,
             "#fb9f3a"
            ],
            [
             0.8888888888888888,
             "#fdca26"
            ],
            [
             1,
             "#f0f921"
            ]
           ],
           "sequentialminus": [
            [
             0,
             "#0d0887"
            ],
            [
             0.1111111111111111,
             "#46039f"
            ],
            [
             0.2222222222222222,
             "#7201a8"
            ],
            [
             0.3333333333333333,
             "#9c179e"
            ],
            [
             0.4444444444444444,
             "#bd3786"
            ],
            [
             0.5555555555555556,
             "#d8576b"
            ],
            [
             0.6666666666666666,
             "#ed7953"
            ],
            [
             0.7777777777777778,
             "#fb9f3a"
            ],
            [
             0.8888888888888888,
             "#fdca26"
            ],
            [
             1,
             "#f0f921"
            ]
           ]
          },
          "colorway": [
           "#636efa",
           "#EF553B",
           "#00cc96",
           "#ab63fa",
           "#FFA15A",
           "#19d3f3",
           "#FF6692",
           "#B6E880",
           "#FF97FF",
           "#FECB52"
          ],
          "font": {
           "color": "#2a3f5f"
          },
          "geo": {
           "bgcolor": "white",
           "lakecolor": "white",
           "landcolor": "#E5ECF6",
           "showlakes": true,
           "showland": true,
           "subunitcolor": "white"
          },
          "hoverlabel": {
           "align": "left"
          },
          "hovermode": "closest",
          "mapbox": {
           "style": "light"
          },
          "paper_bgcolor": "white",
          "plot_bgcolor": "#E5ECF6",
          "polar": {
           "angularaxis": {
            "gridcolor": "white",
            "linecolor": "white",
            "ticks": ""
           },
           "bgcolor": "#E5ECF6",
           "radialaxis": {
            "gridcolor": "white",
            "linecolor": "white",
            "ticks": ""
           }
          },
          "scene": {
           "xaxis": {
            "backgroundcolor": "#E5ECF6",
            "gridcolor": "white",
            "gridwidth": 2,
            "linecolor": "white",
            "showbackground": true,
            "ticks": "",
            "zerolinecolor": "white"
           },
           "yaxis": {
            "backgroundcolor": "#E5ECF6",
            "gridcolor": "white",
            "gridwidth": 2,
            "linecolor": "white",
            "showbackground": true,
            "ticks": "",
            "zerolinecolor": "white"
           },
           "zaxis": {
            "backgroundcolor": "#E5ECF6",
            "gridcolor": "white",
            "gridwidth": 2,
            "linecolor": "white",
            "showbackground": true,
            "ticks": "",
            "zerolinecolor": "white"
           }
          },
          "shapedefaults": {
           "line": {
            "color": "#2a3f5f"
           }
          },
          "ternary": {
           "aaxis": {
            "gridcolor": "white",
            "linecolor": "white",
            "ticks": ""
           },
           "baxis": {
            "gridcolor": "white",
            "linecolor": "white",
            "ticks": ""
           },
           "bgcolor": "#E5ECF6",
           "caxis": {
            "gridcolor": "white",
            "linecolor": "white",
            "ticks": ""
           }
          },
          "title": {
           "x": 0.05
          },
          "xaxis": {
           "automargin": true,
           "gridcolor": "white",
           "linecolor": "white",
           "ticks": "",
           "title": {
            "standoff": 15
           },
           "zerolinecolor": "white",
           "zerolinewidth": 2
          },
          "yaxis": {
           "automargin": true,
           "gridcolor": "white",
           "linecolor": "white",
           "ticks": "",
           "title": {
            "standoff": 15
           },
           "zerolinecolor": "white",
           "zerolinewidth": 2
          }
         }
        },
        "title": {
         "font": {
          "size": 20
         },
         "text": "UMAP Embedding (Lorentz Latent Space)",
         "x": 0.5,
         "xanchor": "center",
         "y": 0.98,
         "yanchor": "top"
        },
        "width": 700,
        "xaxis": {
         "anchor": "y",
         "domain": [
          0,
          1
         ],
         "scaleanchor": "y",
         "showgrid": true,
         "showticklabels": false,
         "ticks": "",
         "title": {
          "font": {
           "size": 20
          },
          "text": "z₀"
         },
         "zeroline": false
        },
        "yaxis": {
         "anchor": "x",
         "domain": [
          0,
          1
         ],
         "scaleanchor": "x",
         "showgrid": true,
         "showticklabels": false,
         "ticks": "",
         "title": {
          "font": {
           "size": 20
          },
          "text": "z₁"
         },
         "zeroline": false
        }
       }
      }
     },
     "metadata": {},
     "output_type": "display_data"
    }
   ],
   "source": [
    "#This isn't a real Poincaré embedding just the projection of Lorentz embeddings on the Poincaré Ball just to show an example of how to use the UMAP function with Poincaré embeddings\n",
    "get_UMAP(normalised_poincare_pairwise_distance, space=\"P\")"
   ]
  },
  {
   "cell_type": "markdown",
   "id": "b8254c3b",
   "metadata": {},
   "source": [
    "# KNN using calculated distance"
   ]
  },
  {
   "cell_type": "markdown",
   "id": "f72e6677",
   "metadata": {},
   "source": [
    "## Euclidean kNN"
   ]
  },
  {
   "cell_type": "code",
   "execution_count": null,
   "id": "6f401bd4",
   "metadata": {},
   "outputs": [
    {
     "name": "stdout",
     "output_type": "stream",
     "text": [
      "Accuracy on 5000 test samples using k-NN (k=5): 0.7822\n",
      "Adjusted Rand Index: 0.647\n"
     ]
    }
   ],
   "source": [
    "knn, test_labels, euclidean_predicted_labels = get_knn(k=5, embeddings=normalised_euclidean_pairwise_distance, labels=labels, n_test= 5000)"
   ]
  },
  {
   "cell_type": "markdown",
   "id": "1f4529e8",
   "metadata": {},
   "source": [
    "## Lorentz kNN"
   ]
  },
  {
   "cell_type": "code",
   "execution_count": null,
   "id": "d8e7ff36",
   "metadata": {},
   "outputs": [
    {
     "name": "stdout",
     "output_type": "stream",
     "text": [
      "Accuracy on 5000 test samples using k-NN (k=5): 0.8212\n",
      "Adjusted Rand Index: 0.698\n"
     ]
    }
   ],
   "source": [
    "knn, test_labels, lorentz_predicted_labels = get_knn(k=5, embeddings=normalised_lorentz_pairwise_distance, labels=labels, n_test= 5000)"
   ]
  },
  {
   "cell_type": "markdown",
   "id": "4b20b067",
   "metadata": {},
   "source": [
    "# Mutual Information"
   ]
  },
  {
   "cell_type": "markdown",
   "id": "411780e7",
   "metadata": {},
   "source": [
    "## Normal labels categorical distance"
   ]
  },
  {
   "cell_type": "code",
   "execution_count": null,
   "id": "c0c43f56",
   "metadata": {},
   "outputs": [],
   "source": [
    "# 0 if labels are the same, 1 if they are different\n",
    "labels_distance = compute_categorical_distance(labels.cpu().numpy(), discrete_dist=1)"
   ]
  },
  {
   "cell_type": "markdown",
   "id": "64e8084b",
   "metadata": {},
   "source": [
    "## Hierarchal labels categorical distance"
   ]
  },
  {
   "cell_type": "code",
   "execution_count": null,
   "id": "dd0b553a",
   "metadata": {},
   "outputs": [
    {
     "name": "stderr",
     "output_type": "stream",
     "text": [
      "Computing Distance Matrix: 100%|██████████| 16971/16971 [00:48<00:00, 353.42it/s] \n"
     ]
    }
   ],
   "source": [
    "# # 1 for each step to reach same parent (LCA) in the hierarchy, 0 if they are the same (cannot be tested with MNIST)\n",
    "# hierarchical_distance_matrix = compute_fast_hierarchical_distance_matrix(encoded_paths)\n",
    "# hierarchical_distance_matrix = torch.tensor(hierarchical_distance_matrix, dtype=torch.float32)"
   ]
  },
  {
   "cell_type": "code",
   "execution_count": null,
   "id": "39859970",
   "metadata": {},
   "outputs": [
    {
     "name": "stdout",
     "output_type": "stream",
     "text": [
      "Combined distance matrix shape: (3, 10000, 10000)\n"
     ]
    }
   ],
   "source": [
    "distances = np.concatenate([normalised_lorentz_pairwise_distance.cpu().numpy()[None, :, :], \n",
    "                           normalised_euclidean_pairwise_distance.cpu().numpy()[None, :, :],\n",
    "                           labels_distance[None, :, :],],\n",
    "                        #    normalised_hierarchical_distance[None, :, :],],\n",
    "                           axis=0)\n",
    "print(\"Combined distance matrix shape:\", distances.shape)"
   ]
  },
  {
   "cell_type": "markdown",
   "id": "e690bf5d",
   "metadata": {},
   "source": [
    "## Results"
   ]
  },
  {
   "cell_type": "code",
   "execution_count": null,
   "id": "67e715d7",
   "metadata": {},
   "outputs": [
    {
     "name": "stderr",
     "output_type": "stream",
     "text": [
      "100%|██████████| 10000/10000 [00:05<00:00, 1764.97it/s]"
     ]
    },
    {
     "name": "stdout",
     "output_type": "stream",
     "text": [
      "Mutual Information between Euclidean and Lorentz Embeddings 4.019751432318907\n"
     ]
    },
    {
     "name": "stderr",
     "output_type": "stream",
     "text": [
      "\n"
     ]
    }
   ],
   "source": [
    "print(\"Mutual Information between Euclidean and Lorentz Embeddings\", cmi([0],[1],[], 5, distances, precomputed=True))"
   ]
  },
  {
   "cell_type": "code",
   "execution_count": null,
   "id": "c80208e7",
   "metadata": {},
   "outputs": [
    {
     "name": "stderr",
     "output_type": "stream",
     "text": [
      "100%|██████████| 10000/10000 [00:03<00:00, 2559.79it/s]"
     ]
    },
    {
     "name": "stdout",
     "output_type": "stream",
     "text": [
      "Conditional Mutual Information between Classes and Lorentz Embeddings given the Euclidean Embeddings 0.16454534362928497\n"
     ]
    },
    {
     "name": "stderr",
     "output_type": "stream",
     "text": [
      "\n"
     ]
    }
   ],
   "source": [
    "print(\"Conditional Mutual Information between Classes and Lorentz Embeddings given the Euclidean Embeddings\", cmi([0],[2],[1], 5, distances, precomputed=True))"
   ]
  },
  {
   "cell_type": "markdown",
   "id": "72568e72",
   "metadata": {},
   "source": [
    "# McNemar test"
   ]
  },
  {
   "cell_type": "code",
   "execution_count": null,
   "id": "f46495fd",
   "metadata": {},
   "outputs": [
    {
     "name": "stdout",
     "output_type": "stream",
     "text": [
      "McNemar's test\n",
      "chi² statistic: 43.01257142857143, p-value: 5.438924759960044e-11\n"
     ]
    },
    {
     "data": {
      "text/plain": [
       "array([[3571,  535],\n",
       "       [ 340,  554]])"
      ]
     },
     "execution_count": 22,
     "metadata": {},
     "output_type": "execute_result"
    }
   ],
   "source": [
    "print(\"McNemar's test\")\n",
    "table = mcnemar_table(y_target=test_labels.cpu().numpy(), y_model1=lorentz_predicted_labels, y_model2=euclidean_predicted_labels)\n",
    "chi2_, p = mcnemar(ary=table, corrected=True)\n",
    "print(f\"chi² statistic: {chi2_}, p-value: {p}\")\n",
    "table"
   ]
  },
  {
   "cell_type": "code",
   "execution_count": null,
   "id": "28df7fc9",
   "metadata": {},
   "outputs": [
    {
     "data": {
      "image/png": "[encoded data removed]",
      "text/plain": [
       "<Figure size 800x800 with 1 Axes>"
      ]
     },
     "metadata": {},
     "output_type": "display_data"
    }
   ],
   "source": [
    "from mlxtend.plotting import checkerboard_plot\n",
    "import matplotlib.pyplot as plt\n",
    "\n",
    "brd = checkerboard_plot(table,\n",
    "                        figsize=(8, 8),\n",
    "                        fmt='%d',\n",
    "                        col_labels=['Euclidean right', 'Euclidean wrong'],\n",
    "                        row_labels=['Lorentz right', 'Lorentz wrong'],\n",
    "                        fontsize=20)\n",
    "caption = f\"chi² statistic: {chi2_:.2f}, p-value: {p:.2e}\"\n",
    "plt.figtext(0.5, 0.01, caption, wrap=True, horizontalalignment='center', fontsize=18)\n",
    "plt.show()"
   ]
  },
  {
   "cell_type": "code",
   "execution_count": null,
   "id": "98c5d523",
   "metadata": {},
   "outputs": [],
   "source": []
  }
 ],
 "metadata": {
  "kernelspec": {
   "display_name": "FlatlandAndBeyond",
   "language": "python",
   "name": "python3"
  },
  "language_info": {
   "codemirror_mode": {
    "name": "ipython",
    "version": 3
   },
   "file_extension": ".py",
   "mimetype": "text/x-python",
   "name": "python",
   "nbconvert_exporter": "python",
   "pygments_lexer": "ipython3",
   "version": "3.8.20"
  }
 },
 "nbformat": 4,
 "nbformat_minor": 5
}
